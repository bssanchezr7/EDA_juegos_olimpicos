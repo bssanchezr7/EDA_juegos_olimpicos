{
 "cells": [
  {
   "cell_type": "code",
   "execution_count": 1,
   "id": "1f0da8fe",
   "metadata": {
    "_cell_guid": "b1076dfc-b9ad-4769-8c92-a6c4dae69d19",
    "_uuid": "8f2839f25d086af736a60e9eeb907d3b93b6e0e5",
    "execution": {
     "iopub.execute_input": "2023-03-28T04:23:43.872924Z",
     "iopub.status.busy": "2023-03-28T04:23:43.872529Z",
     "iopub.status.idle": "2023-03-28T04:23:45.063155Z",
     "shell.execute_reply": "2023-03-28T04:23:45.061208Z"
    },
    "papermill": {
     "duration": 1.212406,
     "end_time": "2023-03-28T04:23:45.066153",
     "exception": false,
     "start_time": "2023-03-28T04:23:43.853747",
     "status": "completed"
    },
    "tags": []
   },
   "outputs": [
    {
     "name": "stdout",
     "output_type": "stream",
     "text": [
      "/kaggle/input/120-years-of-olympic-history-athletes-and-results/noc_regions.csv\n",
      "/kaggle/input/120-years-of-olympic-history-athletes-and-results/athlete_events.csv\n"
     ]
    }
   ],
   "source": [
    "# This Python 3 environment comes with many helpful analytics libraries installed\n",
    "# It is defined by the kaggle/python Docker image: https://github.com/kaggle/docker-python\n",
    "# For example, here's several helpful packages to load\n",
    "\n",
    "import numpy as np # linear algebra\n",
    "import pandas as pd # data processing, CSV file I/O (e.g. pd.read_csv)\n",
    "import matplotlib.pyplot as plt\n",
    "import seaborn as sns\n",
    "%matplotlib inline\n",
    "\n",
    "# Input data files are available in the read-only \"../input/\" directory\n",
    "# For example, running this (by clicking run or pressing Shift+Enter) will list all files under the input directory\n",
    "\n",
    "import os\n",
    "for dirname, _, filenames in os.walk('/kaggle/input'):\n",
    "    for filename in filenames:\n",
    "        print(os.path.join(dirname, filename))\n",
    "\n",
    "# You can write up to 20GB to the current directory (/kaggle/working/) that gets preserved as output when you create a version using \"Save & Run All\" \n",
    "# You can also write temporary files to /kaggle/temp/, but they won't be saved outside of the current session"
   ]
  },
  {
   "cell_type": "markdown",
   "id": "b2d9b3d1",
   "metadata": {
    "papermill": {
     "duration": 0.017988,
     "end_time": "2023-03-28T04:23:45.099630",
     "exception": false,
     "start_time": "2023-03-28T04:23:45.081642",
     "status": "completed"
    },
    "tags": []
   },
   "source": [
    "## Cargar los datasets"
   ]
  },
  {
   "cell_type": "code",
   "execution_count": 2,
   "id": "2c55ac24",
   "metadata": {
    "execution": {
     "iopub.execute_input": "2023-03-28T04:23:45.136806Z",
     "iopub.status.busy": "2023-03-28T04:23:45.135891Z",
     "iopub.status.idle": "2023-03-28T04:23:46.479243Z",
     "shell.execute_reply": "2023-03-28T04:23:46.478214Z"
    },
    "papermill": {
     "duration": 1.366065,
     "end_time": "2023-03-28T04:23:46.482071",
     "exception": false,
     "start_time": "2023-03-28T04:23:45.116006",
     "status": "completed"
    },
    "tags": []
   },
   "outputs": [],
   "source": [
    "atletas = pd.read_csv('/kaggle/input/120-years-of-olympic-history-athletes-and-results/athlete_events.csv')\n",
    "regiones = pd.read_csv('/kaggle/input/120-years-of-olympic-history-athletes-and-results/noc_regions.csv')"
   ]
  },
  {
   "cell_type": "code",
   "execution_count": 3,
   "id": "5cc5fdc9",
   "metadata": {
    "execution": {
     "iopub.execute_input": "2023-03-28T04:23:46.516032Z",
     "iopub.status.busy": "2023-03-28T04:23:46.515629Z",
     "iopub.status.idle": "2023-03-28T04:23:46.550397Z",
     "shell.execute_reply": "2023-03-28T04:23:46.549020Z"
    },
    "papermill": {
     "duration": 0.054687,
     "end_time": "2023-03-28T04:23:46.552933",
     "exception": false,
     "start_time": "2023-03-28T04:23:46.498246",
     "status": "completed"
    },
    "tags": []
   },
   "outputs": [
    {
     "data": {
      "text/html": [
       "<div>\n",
       "<style scoped>\n",
       "    .dataframe tbody tr th:only-of-type {\n",
       "        vertical-align: middle;\n",
       "    }\n",
       "\n",
       "    .dataframe tbody tr th {\n",
       "        vertical-align: top;\n",
       "    }\n",
       "\n",
       "    .dataframe thead th {\n",
       "        text-align: right;\n",
       "    }\n",
       "</style>\n",
       "<table border=\"1\" class=\"dataframe\">\n",
       "  <thead>\n",
       "    <tr style=\"text-align: right;\">\n",
       "      <th></th>\n",
       "      <th>ID</th>\n",
       "      <th>Name</th>\n",
       "      <th>Sex</th>\n",
       "      <th>Age</th>\n",
       "      <th>Height</th>\n",
       "      <th>Weight</th>\n",
       "      <th>Team</th>\n",
       "      <th>NOC</th>\n",
       "      <th>Games</th>\n",
       "      <th>Year</th>\n",
       "      <th>Season</th>\n",
       "      <th>City</th>\n",
       "      <th>Sport</th>\n",
       "      <th>Event</th>\n",
       "      <th>Medal</th>\n",
       "    </tr>\n",
       "  </thead>\n",
       "  <tbody>\n",
       "    <tr>\n",
       "      <th>0</th>\n",
       "      <td>1</td>\n",
       "      <td>A Dijiang</td>\n",
       "      <td>M</td>\n",
       "      <td>24.0</td>\n",
       "      <td>180.0</td>\n",
       "      <td>80.0</td>\n",
       "      <td>China</td>\n",
       "      <td>CHN</td>\n",
       "      <td>1992 Summer</td>\n",
       "      <td>1992</td>\n",
       "      <td>Summer</td>\n",
       "      <td>Barcelona</td>\n",
       "      <td>Basketball</td>\n",
       "      <td>Basketball Men's Basketball</td>\n",
       "      <td>NaN</td>\n",
       "    </tr>\n",
       "    <tr>\n",
       "      <th>1</th>\n",
       "      <td>2</td>\n",
       "      <td>A Lamusi</td>\n",
       "      <td>M</td>\n",
       "      <td>23.0</td>\n",
       "      <td>170.0</td>\n",
       "      <td>60.0</td>\n",
       "      <td>China</td>\n",
       "      <td>CHN</td>\n",
       "      <td>2012 Summer</td>\n",
       "      <td>2012</td>\n",
       "      <td>Summer</td>\n",
       "      <td>London</td>\n",
       "      <td>Judo</td>\n",
       "      <td>Judo Men's Extra-Lightweight</td>\n",
       "      <td>NaN</td>\n",
       "    </tr>\n",
       "    <tr>\n",
       "      <th>2</th>\n",
       "      <td>3</td>\n",
       "      <td>Gunnar Nielsen Aaby</td>\n",
       "      <td>M</td>\n",
       "      <td>24.0</td>\n",
       "      <td>NaN</td>\n",
       "      <td>NaN</td>\n",
       "      <td>Denmark</td>\n",
       "      <td>DEN</td>\n",
       "      <td>1920 Summer</td>\n",
       "      <td>1920</td>\n",
       "      <td>Summer</td>\n",
       "      <td>Antwerpen</td>\n",
       "      <td>Football</td>\n",
       "      <td>Football Men's Football</td>\n",
       "      <td>NaN</td>\n",
       "    </tr>\n",
       "    <tr>\n",
       "      <th>3</th>\n",
       "      <td>4</td>\n",
       "      <td>Edgar Lindenau Aabye</td>\n",
       "      <td>M</td>\n",
       "      <td>34.0</td>\n",
       "      <td>NaN</td>\n",
       "      <td>NaN</td>\n",
       "      <td>Denmark/Sweden</td>\n",
       "      <td>DEN</td>\n",
       "      <td>1900 Summer</td>\n",
       "      <td>1900</td>\n",
       "      <td>Summer</td>\n",
       "      <td>Paris</td>\n",
       "      <td>Tug-Of-War</td>\n",
       "      <td>Tug-Of-War Men's Tug-Of-War</td>\n",
       "      <td>Gold</td>\n",
       "    </tr>\n",
       "    <tr>\n",
       "      <th>4</th>\n",
       "      <td>5</td>\n",
       "      <td>Christine Jacoba Aaftink</td>\n",
       "      <td>F</td>\n",
       "      <td>21.0</td>\n",
       "      <td>185.0</td>\n",
       "      <td>82.0</td>\n",
       "      <td>Netherlands</td>\n",
       "      <td>NED</td>\n",
       "      <td>1988 Winter</td>\n",
       "      <td>1988</td>\n",
       "      <td>Winter</td>\n",
       "      <td>Calgary</td>\n",
       "      <td>Speed Skating</td>\n",
       "      <td>Speed Skating Women's 500 metres</td>\n",
       "      <td>NaN</td>\n",
       "    </tr>\n",
       "  </tbody>\n",
       "</table>\n",
       "</div>"
      ],
      "text/plain": [
       "   ID                      Name Sex   Age  Height  Weight            Team  \\\n",
       "0   1                 A Dijiang   M  24.0   180.0    80.0           China   \n",
       "1   2                  A Lamusi   M  23.0   170.0    60.0           China   \n",
       "2   3       Gunnar Nielsen Aaby   M  24.0     NaN     NaN         Denmark   \n",
       "3   4      Edgar Lindenau Aabye   M  34.0     NaN     NaN  Denmark/Sweden   \n",
       "4   5  Christine Jacoba Aaftink   F  21.0   185.0    82.0     Netherlands   \n",
       "\n",
       "   NOC        Games  Year  Season       City          Sport  \\\n",
       "0  CHN  1992 Summer  1992  Summer  Barcelona     Basketball   \n",
       "1  CHN  2012 Summer  2012  Summer     London           Judo   \n",
       "2  DEN  1920 Summer  1920  Summer  Antwerpen       Football   \n",
       "3  DEN  1900 Summer  1900  Summer      Paris     Tug-Of-War   \n",
       "4  NED  1988 Winter  1988  Winter    Calgary  Speed Skating   \n",
       "\n",
       "                              Event Medal  \n",
       "0       Basketball Men's Basketball   NaN  \n",
       "1      Judo Men's Extra-Lightweight   NaN  \n",
       "2           Football Men's Football   NaN  \n",
       "3       Tug-Of-War Men's Tug-Of-War  Gold  \n",
       "4  Speed Skating Women's 500 metres   NaN  "
      ]
     },
     "execution_count": 3,
     "metadata": {},
     "output_type": "execute_result"
    }
   ],
   "source": [
    "atletas.head()"
   ]
  },
  {
   "cell_type": "code",
   "execution_count": 4,
   "id": "7ff364b2",
   "metadata": {
    "execution": {
     "iopub.execute_input": "2023-03-28T04:23:46.586856Z",
     "iopub.status.busy": "2023-03-28T04:23:46.586455Z",
     "iopub.status.idle": "2023-03-28T04:23:46.597851Z",
     "shell.execute_reply": "2023-03-28T04:23:46.596676Z"
    },
    "papermill": {
     "duration": 0.031423,
     "end_time": "2023-03-28T04:23:46.600403",
     "exception": false,
     "start_time": "2023-03-28T04:23:46.568980",
     "status": "completed"
    },
    "tags": []
   },
   "outputs": [
    {
     "data": {
      "text/html": [
       "<div>\n",
       "<style scoped>\n",
       "    .dataframe tbody tr th:only-of-type {\n",
       "        vertical-align: middle;\n",
       "    }\n",
       "\n",
       "    .dataframe tbody tr th {\n",
       "        vertical-align: top;\n",
       "    }\n",
       "\n",
       "    .dataframe thead th {\n",
       "        text-align: right;\n",
       "    }\n",
       "</style>\n",
       "<table border=\"1\" class=\"dataframe\">\n",
       "  <thead>\n",
       "    <tr style=\"text-align: right;\">\n",
       "      <th></th>\n",
       "      <th>NOC</th>\n",
       "      <th>region</th>\n",
       "      <th>notes</th>\n",
       "    </tr>\n",
       "  </thead>\n",
       "  <tbody>\n",
       "    <tr>\n",
       "      <th>0</th>\n",
       "      <td>AFG</td>\n",
       "      <td>Afghanistan</td>\n",
       "      <td>NaN</td>\n",
       "    </tr>\n",
       "    <tr>\n",
       "      <th>1</th>\n",
       "      <td>AHO</td>\n",
       "      <td>Curacao</td>\n",
       "      <td>Netherlands Antilles</td>\n",
       "    </tr>\n",
       "    <tr>\n",
       "      <th>2</th>\n",
       "      <td>ALB</td>\n",
       "      <td>Albania</td>\n",
       "      <td>NaN</td>\n",
       "    </tr>\n",
       "    <tr>\n",
       "      <th>3</th>\n",
       "      <td>ALG</td>\n",
       "      <td>Algeria</td>\n",
       "      <td>NaN</td>\n",
       "    </tr>\n",
       "    <tr>\n",
       "      <th>4</th>\n",
       "      <td>AND</td>\n",
       "      <td>Andorra</td>\n",
       "      <td>NaN</td>\n",
       "    </tr>\n",
       "  </tbody>\n",
       "</table>\n",
       "</div>"
      ],
      "text/plain": [
       "   NOC       region                 notes\n",
       "0  AFG  Afghanistan                   NaN\n",
       "1  AHO      Curacao  Netherlands Antilles\n",
       "2  ALB      Albania                   NaN\n",
       "3  ALG      Algeria                   NaN\n",
       "4  AND      Andorra                   NaN"
      ]
     },
     "execution_count": 4,
     "metadata": {},
     "output_type": "execute_result"
    }
   ],
   "source": [
    "regiones.head()"
   ]
  },
  {
   "cell_type": "markdown",
   "id": "9b5b756d",
   "metadata": {
    "papermill": {
     "duration": 0.015319,
     "end_time": "2023-03-28T04:23:46.631537",
     "exception": false,
     "start_time": "2023-03-28T04:23:46.616218",
     "status": "completed"
    },
    "tags": []
   },
   "source": [
    "## Combinar los dataframes"
   ]
  },
  {
   "cell_type": "code",
   "execution_count": 5,
   "id": "70ad115d",
   "metadata": {
    "execution": {
     "iopub.execute_input": "2023-03-28T04:23:46.665763Z",
     "iopub.status.busy": "2023-03-28T04:23:46.665325Z",
     "iopub.status.idle": "2023-03-28T04:23:46.934556Z",
     "shell.execute_reply": "2023-03-28T04:23:46.933232Z"
    },
    "papermill": {
     "duration": 0.291488,
     "end_time": "2023-03-28T04:23:46.939503",
     "exception": false,
     "start_time": "2023-03-28T04:23:46.648015",
     "status": "completed"
    },
    "tags": []
   },
   "outputs": [
    {
     "data": {
      "text/html": [
       "<div>\n",
       "<style scoped>\n",
       "    .dataframe tbody tr th:only-of-type {\n",
       "        vertical-align: middle;\n",
       "    }\n",
       "\n",
       "    .dataframe tbody tr th {\n",
       "        vertical-align: top;\n",
       "    }\n",
       "\n",
       "    .dataframe thead th {\n",
       "        text-align: right;\n",
       "    }\n",
       "</style>\n",
       "<table border=\"1\" class=\"dataframe\">\n",
       "  <thead>\n",
       "    <tr style=\"text-align: right;\">\n",
       "      <th></th>\n",
       "      <th>ID</th>\n",
       "      <th>Name</th>\n",
       "      <th>Sex</th>\n",
       "      <th>Age</th>\n",
       "      <th>Height</th>\n",
       "      <th>Weight</th>\n",
       "      <th>Team</th>\n",
       "      <th>NOC</th>\n",
       "      <th>Games</th>\n",
       "      <th>Year</th>\n",
       "      <th>Season</th>\n",
       "      <th>City</th>\n",
       "      <th>Sport</th>\n",
       "      <th>Event</th>\n",
       "      <th>Medal</th>\n",
       "      <th>region</th>\n",
       "      <th>notes</th>\n",
       "    </tr>\n",
       "  </thead>\n",
       "  <tbody>\n",
       "    <tr>\n",
       "      <th>0</th>\n",
       "      <td>1</td>\n",
       "      <td>A Dijiang</td>\n",
       "      <td>M</td>\n",
       "      <td>24.0</td>\n",
       "      <td>180.0</td>\n",
       "      <td>80.0</td>\n",
       "      <td>China</td>\n",
       "      <td>CHN</td>\n",
       "      <td>1992 Summer</td>\n",
       "      <td>1992</td>\n",
       "      <td>Summer</td>\n",
       "      <td>Barcelona</td>\n",
       "      <td>Basketball</td>\n",
       "      <td>Basketball Men's Basketball</td>\n",
       "      <td>NaN</td>\n",
       "      <td>China</td>\n",
       "      <td>NaN</td>\n",
       "    </tr>\n",
       "    <tr>\n",
       "      <th>1</th>\n",
       "      <td>2</td>\n",
       "      <td>A Lamusi</td>\n",
       "      <td>M</td>\n",
       "      <td>23.0</td>\n",
       "      <td>170.0</td>\n",
       "      <td>60.0</td>\n",
       "      <td>China</td>\n",
       "      <td>CHN</td>\n",
       "      <td>2012 Summer</td>\n",
       "      <td>2012</td>\n",
       "      <td>Summer</td>\n",
       "      <td>London</td>\n",
       "      <td>Judo</td>\n",
       "      <td>Judo Men's Extra-Lightweight</td>\n",
       "      <td>NaN</td>\n",
       "      <td>China</td>\n",
       "      <td>NaN</td>\n",
       "    </tr>\n",
       "    <tr>\n",
       "      <th>2</th>\n",
       "      <td>3</td>\n",
       "      <td>Gunnar Nielsen Aaby</td>\n",
       "      <td>M</td>\n",
       "      <td>24.0</td>\n",
       "      <td>NaN</td>\n",
       "      <td>NaN</td>\n",
       "      <td>Denmark</td>\n",
       "      <td>DEN</td>\n",
       "      <td>1920 Summer</td>\n",
       "      <td>1920</td>\n",
       "      <td>Summer</td>\n",
       "      <td>Antwerpen</td>\n",
       "      <td>Football</td>\n",
       "      <td>Football Men's Football</td>\n",
       "      <td>NaN</td>\n",
       "      <td>Denmark</td>\n",
       "      <td>NaN</td>\n",
       "    </tr>\n",
       "    <tr>\n",
       "      <th>3</th>\n",
       "      <td>4</td>\n",
       "      <td>Edgar Lindenau Aabye</td>\n",
       "      <td>M</td>\n",
       "      <td>34.0</td>\n",
       "      <td>NaN</td>\n",
       "      <td>NaN</td>\n",
       "      <td>Denmark/Sweden</td>\n",
       "      <td>DEN</td>\n",
       "      <td>1900 Summer</td>\n",
       "      <td>1900</td>\n",
       "      <td>Summer</td>\n",
       "      <td>Paris</td>\n",
       "      <td>Tug-Of-War</td>\n",
       "      <td>Tug-Of-War Men's Tug-Of-War</td>\n",
       "      <td>Gold</td>\n",
       "      <td>Denmark</td>\n",
       "      <td>NaN</td>\n",
       "    </tr>\n",
       "    <tr>\n",
       "      <th>4</th>\n",
       "      <td>5</td>\n",
       "      <td>Christine Jacoba Aaftink</td>\n",
       "      <td>F</td>\n",
       "      <td>21.0</td>\n",
       "      <td>185.0</td>\n",
       "      <td>82.0</td>\n",
       "      <td>Netherlands</td>\n",
       "      <td>NED</td>\n",
       "      <td>1988 Winter</td>\n",
       "      <td>1988</td>\n",
       "      <td>Winter</td>\n",
       "      <td>Calgary</td>\n",
       "      <td>Speed Skating</td>\n",
       "      <td>Speed Skating Women's 500 metres</td>\n",
       "      <td>NaN</td>\n",
       "      <td>Netherlands</td>\n",
       "      <td>NaN</td>\n",
       "    </tr>\n",
       "  </tbody>\n",
       "</table>\n",
       "</div>"
      ],
      "text/plain": [
       "   ID                      Name Sex   Age  Height  Weight            Team  \\\n",
       "0   1                 A Dijiang   M  24.0   180.0    80.0           China   \n",
       "1   2                  A Lamusi   M  23.0   170.0    60.0           China   \n",
       "2   3       Gunnar Nielsen Aaby   M  24.0     NaN     NaN         Denmark   \n",
       "3   4      Edgar Lindenau Aabye   M  34.0     NaN     NaN  Denmark/Sweden   \n",
       "4   5  Christine Jacoba Aaftink   F  21.0   185.0    82.0     Netherlands   \n",
       "\n",
       "   NOC        Games  Year  Season       City          Sport  \\\n",
       "0  CHN  1992 Summer  1992  Summer  Barcelona     Basketball   \n",
       "1  CHN  2012 Summer  2012  Summer     London           Judo   \n",
       "2  DEN  1920 Summer  1920  Summer  Antwerpen       Football   \n",
       "3  DEN  1900 Summer  1900  Summer      Paris     Tug-Of-War   \n",
       "4  NED  1988 Winter  1988  Winter    Calgary  Speed Skating   \n",
       "\n",
       "                              Event Medal       region notes  \n",
       "0       Basketball Men's Basketball   NaN        China   NaN  \n",
       "1      Judo Men's Extra-Lightweight   NaN        China   NaN  \n",
       "2           Football Men's Football   NaN      Denmark   NaN  \n",
       "3       Tug-Of-War Men's Tug-Of-War  Gold      Denmark   NaN  \n",
       "4  Speed Skating Women's 500 metres   NaN  Netherlands   NaN  "
      ]
     },
     "execution_count": 5,
     "metadata": {},
     "output_type": "execute_result"
    }
   ],
   "source": [
    "atletas_df = atletas.merge(regiones, how='left', on= 'NOC')\n",
    "atletas_df.head()"
   ]
  },
  {
   "cell_type": "code",
   "execution_count": 6,
   "id": "2f951700",
   "metadata": {
    "execution": {
     "iopub.execute_input": "2023-03-28T04:23:46.973969Z",
     "iopub.status.busy": "2023-03-28T04:23:46.973242Z",
     "iopub.status.idle": "2023-03-28T04:23:46.980603Z",
     "shell.execute_reply": "2023-03-28T04:23:46.979371Z"
    },
    "papermill": {
     "duration": 0.027155,
     "end_time": "2023-03-28T04:23:46.982946",
     "exception": false,
     "start_time": "2023-03-28T04:23:46.955791",
     "status": "completed"
    },
    "tags": []
   },
   "outputs": [
    {
     "data": {
      "text/plain": [
       "(271116, 17)"
      ]
     },
     "execution_count": 6,
     "metadata": {},
     "output_type": "execute_result"
    }
   ],
   "source": [
    "atletas_df.shape"
   ]
  },
  {
   "cell_type": "markdown",
   "id": "c0bcf39a",
   "metadata": {
    "papermill": {
     "duration": 0.015945,
     "end_time": "2023-03-28T04:23:47.014928",
     "exception": false,
     "start_time": "2023-03-28T04:23:46.998983",
     "status": "completed"
    },
    "tags": []
   },
   "source": [
    "## Hacer consistentes los nombres de las columnas"
   ]
  },
  {
   "cell_type": "code",
   "execution_count": 7,
   "id": "0aa87134",
   "metadata": {
    "execution": {
     "iopub.execute_input": "2023-03-28T04:23:47.049687Z",
     "iopub.status.busy": "2023-03-28T04:23:47.048473Z",
     "iopub.status.idle": "2023-03-28T04:23:47.054962Z",
     "shell.execute_reply": "2023-03-28T04:23:47.054121Z"
    },
    "papermill": {
     "duration": 0.026384,
     "end_time": "2023-03-28T04:23:47.057415",
     "exception": false,
     "start_time": "2023-03-28T04:23:47.031031",
     "status": "completed"
    },
    "tags": []
   },
   "outputs": [],
   "source": [
    "atletas_df.rename(columns={'region':'Region', 'notes':'Notes'}, inplace=True)"
   ]
  },
  {
   "cell_type": "code",
   "execution_count": 8,
   "id": "1b08ba6b",
   "metadata": {
    "execution": {
     "iopub.execute_input": "2023-03-28T04:23:47.092158Z",
     "iopub.status.busy": "2023-03-28T04:23:47.091051Z",
     "iopub.status.idle": "2023-03-28T04:23:47.111993Z",
     "shell.execute_reply": "2023-03-28T04:23:47.110758Z"
    },
    "papermill": {
     "duration": 0.041039,
     "end_time": "2023-03-28T04:23:47.114603",
     "exception": false,
     "start_time": "2023-03-28T04:23:47.073564",
     "status": "completed"
    },
    "tags": []
   },
   "outputs": [
    {
     "data": {
      "text/html": [
       "<div>\n",
       "<style scoped>\n",
       "    .dataframe tbody tr th:only-of-type {\n",
       "        vertical-align: middle;\n",
       "    }\n",
       "\n",
       "    .dataframe tbody tr th {\n",
       "        vertical-align: top;\n",
       "    }\n",
       "\n",
       "    .dataframe thead th {\n",
       "        text-align: right;\n",
       "    }\n",
       "</style>\n",
       "<table border=\"1\" class=\"dataframe\">\n",
       "  <thead>\n",
       "    <tr style=\"text-align: right;\">\n",
       "      <th></th>\n",
       "      <th>ID</th>\n",
       "      <th>Name</th>\n",
       "      <th>Sex</th>\n",
       "      <th>Age</th>\n",
       "      <th>Height</th>\n",
       "      <th>Weight</th>\n",
       "      <th>Team</th>\n",
       "      <th>NOC</th>\n",
       "      <th>Games</th>\n",
       "      <th>Year</th>\n",
       "      <th>Season</th>\n",
       "      <th>City</th>\n",
       "      <th>Sport</th>\n",
       "      <th>Event</th>\n",
       "      <th>Medal</th>\n",
       "      <th>Region</th>\n",
       "      <th>Notes</th>\n",
       "    </tr>\n",
       "  </thead>\n",
       "  <tbody>\n",
       "    <tr>\n",
       "      <th>0</th>\n",
       "      <td>1</td>\n",
       "      <td>A Dijiang</td>\n",
       "      <td>M</td>\n",
       "      <td>24.0</td>\n",
       "      <td>180.0</td>\n",
       "      <td>80.0</td>\n",
       "      <td>China</td>\n",
       "      <td>CHN</td>\n",
       "      <td>1992 Summer</td>\n",
       "      <td>1992</td>\n",
       "      <td>Summer</td>\n",
       "      <td>Barcelona</td>\n",
       "      <td>Basketball</td>\n",
       "      <td>Basketball Men's Basketball</td>\n",
       "      <td>NaN</td>\n",
       "      <td>China</td>\n",
       "      <td>NaN</td>\n",
       "    </tr>\n",
       "    <tr>\n",
       "      <th>1</th>\n",
       "      <td>2</td>\n",
       "      <td>A Lamusi</td>\n",
       "      <td>M</td>\n",
       "      <td>23.0</td>\n",
       "      <td>170.0</td>\n",
       "      <td>60.0</td>\n",
       "      <td>China</td>\n",
       "      <td>CHN</td>\n",
       "      <td>2012 Summer</td>\n",
       "      <td>2012</td>\n",
       "      <td>Summer</td>\n",
       "      <td>London</td>\n",
       "      <td>Judo</td>\n",
       "      <td>Judo Men's Extra-Lightweight</td>\n",
       "      <td>NaN</td>\n",
       "      <td>China</td>\n",
       "      <td>NaN</td>\n",
       "    </tr>\n",
       "    <tr>\n",
       "      <th>2</th>\n",
       "      <td>3</td>\n",
       "      <td>Gunnar Nielsen Aaby</td>\n",
       "      <td>M</td>\n",
       "      <td>24.0</td>\n",
       "      <td>NaN</td>\n",
       "      <td>NaN</td>\n",
       "      <td>Denmark</td>\n",
       "      <td>DEN</td>\n",
       "      <td>1920 Summer</td>\n",
       "      <td>1920</td>\n",
       "      <td>Summer</td>\n",
       "      <td>Antwerpen</td>\n",
       "      <td>Football</td>\n",
       "      <td>Football Men's Football</td>\n",
       "      <td>NaN</td>\n",
       "      <td>Denmark</td>\n",
       "      <td>NaN</td>\n",
       "    </tr>\n",
       "    <tr>\n",
       "      <th>3</th>\n",
       "      <td>4</td>\n",
       "      <td>Edgar Lindenau Aabye</td>\n",
       "      <td>M</td>\n",
       "      <td>34.0</td>\n",
       "      <td>NaN</td>\n",
       "      <td>NaN</td>\n",
       "      <td>Denmark/Sweden</td>\n",
       "      <td>DEN</td>\n",
       "      <td>1900 Summer</td>\n",
       "      <td>1900</td>\n",
       "      <td>Summer</td>\n",
       "      <td>Paris</td>\n",
       "      <td>Tug-Of-War</td>\n",
       "      <td>Tug-Of-War Men's Tug-Of-War</td>\n",
       "      <td>Gold</td>\n",
       "      <td>Denmark</td>\n",
       "      <td>NaN</td>\n",
       "    </tr>\n",
       "    <tr>\n",
       "      <th>4</th>\n",
       "      <td>5</td>\n",
       "      <td>Christine Jacoba Aaftink</td>\n",
       "      <td>F</td>\n",
       "      <td>21.0</td>\n",
       "      <td>185.0</td>\n",
       "      <td>82.0</td>\n",
       "      <td>Netherlands</td>\n",
       "      <td>NED</td>\n",
       "      <td>1988 Winter</td>\n",
       "      <td>1988</td>\n",
       "      <td>Winter</td>\n",
       "      <td>Calgary</td>\n",
       "      <td>Speed Skating</td>\n",
       "      <td>Speed Skating Women's 500 metres</td>\n",
       "      <td>NaN</td>\n",
       "      <td>Netherlands</td>\n",
       "      <td>NaN</td>\n",
       "    </tr>\n",
       "  </tbody>\n",
       "</table>\n",
       "</div>"
      ],
      "text/plain": [
       "   ID                      Name Sex   Age  Height  Weight            Team  \\\n",
       "0   1                 A Dijiang   M  24.0   180.0    80.0           China   \n",
       "1   2                  A Lamusi   M  23.0   170.0    60.0           China   \n",
       "2   3       Gunnar Nielsen Aaby   M  24.0     NaN     NaN         Denmark   \n",
       "3   4      Edgar Lindenau Aabye   M  34.0     NaN     NaN  Denmark/Sweden   \n",
       "4   5  Christine Jacoba Aaftink   F  21.0   185.0    82.0     Netherlands   \n",
       "\n",
       "   NOC        Games  Year  Season       City          Sport  \\\n",
       "0  CHN  1992 Summer  1992  Summer  Barcelona     Basketball   \n",
       "1  CHN  2012 Summer  2012  Summer     London           Judo   \n",
       "2  DEN  1920 Summer  1920  Summer  Antwerpen       Football   \n",
       "3  DEN  1900 Summer  1900  Summer      Paris     Tug-Of-War   \n",
       "4  NED  1988 Winter  1988  Winter    Calgary  Speed Skating   \n",
       "\n",
       "                              Event Medal       Region Notes  \n",
       "0       Basketball Men's Basketball   NaN        China   NaN  \n",
       "1      Judo Men's Extra-Lightweight   NaN        China   NaN  \n",
       "2           Football Men's Football   NaN      Denmark   NaN  \n",
       "3       Tug-Of-War Men's Tug-Of-War  Gold      Denmark   NaN  \n",
       "4  Speed Skating Women's 500 metres   NaN  Netherlands   NaN  "
      ]
     },
     "execution_count": 8,
     "metadata": {},
     "output_type": "execute_result"
    }
   ],
   "source": [
    "atletas_df.head()"
   ]
  },
  {
   "cell_type": "markdown",
   "id": "ee280bf3",
   "metadata": {
    "papermill": {
     "duration": 0.016148,
     "end_time": "2023-03-28T04:23:47.147171",
     "exception": false,
     "start_time": "2023-03-28T04:23:47.131023",
     "status": "completed"
    },
    "tags": []
   },
   "source": [
    "## Resumen de información de las columnas"
   ]
  },
  {
   "cell_type": "code",
   "execution_count": 9,
   "id": "71154d32",
   "metadata": {
    "execution": {
     "iopub.execute_input": "2023-03-28T04:23:47.182027Z",
     "iopub.status.busy": "2023-03-28T04:23:47.180933Z",
     "iopub.status.idle": "2023-03-28T04:23:47.352698Z",
     "shell.execute_reply": "2023-03-28T04:23:47.350967Z"
    },
    "papermill": {
     "duration": 0.193308,
     "end_time": "2023-03-28T04:23:47.356673",
     "exception": false,
     "start_time": "2023-03-28T04:23:47.163365",
     "status": "completed"
    },
    "tags": []
   },
   "outputs": [
    {
     "name": "stdout",
     "output_type": "stream",
     "text": [
      "<class 'pandas.core.frame.DataFrame'>\n",
      "Int64Index: 271116 entries, 0 to 271115\n",
      "Data columns (total 17 columns):\n",
      " #   Column  Non-Null Count   Dtype  \n",
      "---  ------  --------------   -----  \n",
      " 0   ID      271116 non-null  int64  \n",
      " 1   Name    271116 non-null  object \n",
      " 2   Sex     271116 non-null  object \n",
      " 3   Age     261642 non-null  float64\n",
      " 4   Height  210945 non-null  float64\n",
      " 5   Weight  208241 non-null  float64\n",
      " 6   Team    271116 non-null  object \n",
      " 7   NOC     271116 non-null  object \n",
      " 8   Games   271116 non-null  object \n",
      " 9   Year    271116 non-null  int64  \n",
      " 10  Season  271116 non-null  object \n",
      " 11  City    271116 non-null  object \n",
      " 12  Sport   271116 non-null  object \n",
      " 13  Event   271116 non-null  object \n",
      " 14  Medal   39783 non-null   object \n",
      " 15  Region  270746 non-null  object \n",
      " 16  Notes   5039 non-null    object \n",
      "dtypes: float64(3), int64(2), object(12)\n",
      "memory usage: 37.2+ MB\n"
     ]
    }
   ],
   "source": [
    "atletas_df.info()"
   ]
  },
  {
   "cell_type": "markdown",
   "id": "78f62138",
   "metadata": {
    "papermill": {
     "duration": 0.015961,
     "end_time": "2023-03-28T04:23:47.389328",
     "exception": false,
     "start_time": "2023-03-28T04:23:47.373367",
     "status": "completed"
    },
    "tags": []
   },
   "source": [
    "## Resumen estadístico de las variables numéricas "
   ]
  },
  {
   "cell_type": "code",
   "execution_count": 10,
   "id": "53155692",
   "metadata": {
    "execution": {
     "iopub.execute_input": "2023-03-28T04:23:47.424903Z",
     "iopub.status.busy": "2023-03-28T04:23:47.423690Z",
     "iopub.status.idle": "2023-03-28T04:23:47.634104Z",
     "shell.execute_reply": "2023-03-28T04:23:47.632965Z"
    },
    "papermill": {
     "duration": 0.231297,
     "end_time": "2023-03-28T04:23:47.636917",
     "exception": false,
     "start_time": "2023-03-28T04:23:47.405620",
     "status": "completed"
    },
    "tags": []
   },
   "outputs": [
    {
     "data": {
      "text/html": [
       "<div>\n",
       "<style scoped>\n",
       "    .dataframe tbody tr th:only-of-type {\n",
       "        vertical-align: middle;\n",
       "    }\n",
       "\n",
       "    .dataframe tbody tr th {\n",
       "        vertical-align: top;\n",
       "    }\n",
       "\n",
       "    .dataframe thead th {\n",
       "        text-align: right;\n",
       "    }\n",
       "</style>\n",
       "<table border=\"1\" class=\"dataframe\">\n",
       "  <thead>\n",
       "    <tr style=\"text-align: right;\">\n",
       "      <th></th>\n",
       "      <th>ID</th>\n",
       "      <th>Age</th>\n",
       "      <th>Height</th>\n",
       "      <th>Weight</th>\n",
       "      <th>Year</th>\n",
       "    </tr>\n",
       "  </thead>\n",
       "  <tbody>\n",
       "    <tr>\n",
       "      <th>count</th>\n",
       "      <td>271116.000000</td>\n",
       "      <td>261642.000000</td>\n",
       "      <td>210945.000000</td>\n",
       "      <td>208241.000000</td>\n",
       "      <td>271116.000000</td>\n",
       "    </tr>\n",
       "    <tr>\n",
       "      <th>mean</th>\n",
       "      <td>68248.954396</td>\n",
       "      <td>25.556898</td>\n",
       "      <td>175.338970</td>\n",
       "      <td>70.702393</td>\n",
       "      <td>1978.378480</td>\n",
       "    </tr>\n",
       "    <tr>\n",
       "      <th>std</th>\n",
       "      <td>39022.286345</td>\n",
       "      <td>6.393561</td>\n",
       "      <td>10.518462</td>\n",
       "      <td>14.348020</td>\n",
       "      <td>29.877632</td>\n",
       "    </tr>\n",
       "    <tr>\n",
       "      <th>min</th>\n",
       "      <td>1.000000</td>\n",
       "      <td>10.000000</td>\n",
       "      <td>127.000000</td>\n",
       "      <td>25.000000</td>\n",
       "      <td>1896.000000</td>\n",
       "    </tr>\n",
       "    <tr>\n",
       "      <th>25%</th>\n",
       "      <td>34643.000000</td>\n",
       "      <td>21.000000</td>\n",
       "      <td>168.000000</td>\n",
       "      <td>60.000000</td>\n",
       "      <td>1960.000000</td>\n",
       "    </tr>\n",
       "    <tr>\n",
       "      <th>50%</th>\n",
       "      <td>68205.000000</td>\n",
       "      <td>24.000000</td>\n",
       "      <td>175.000000</td>\n",
       "      <td>70.000000</td>\n",
       "      <td>1988.000000</td>\n",
       "    </tr>\n",
       "    <tr>\n",
       "      <th>75%</th>\n",
       "      <td>102097.250000</td>\n",
       "      <td>28.000000</td>\n",
       "      <td>183.000000</td>\n",
       "      <td>79.000000</td>\n",
       "      <td>2002.000000</td>\n",
       "    </tr>\n",
       "    <tr>\n",
       "      <th>max</th>\n",
       "      <td>135571.000000</td>\n",
       "      <td>97.000000</td>\n",
       "      <td>226.000000</td>\n",
       "      <td>214.000000</td>\n",
       "      <td>2016.000000</td>\n",
       "    </tr>\n",
       "  </tbody>\n",
       "</table>\n",
       "</div>"
      ],
      "text/plain": [
       "                  ID            Age         Height         Weight  \\\n",
       "count  271116.000000  261642.000000  210945.000000  208241.000000   \n",
       "mean    68248.954396      25.556898     175.338970      70.702393   \n",
       "std     39022.286345       6.393561      10.518462      14.348020   \n",
       "min         1.000000      10.000000     127.000000      25.000000   \n",
       "25%     34643.000000      21.000000     168.000000      60.000000   \n",
       "50%     68205.000000      24.000000     175.000000      70.000000   \n",
       "75%    102097.250000      28.000000     183.000000      79.000000   \n",
       "max    135571.000000      97.000000     226.000000     214.000000   \n",
       "\n",
       "                Year  \n",
       "count  271116.000000  \n",
       "mean     1978.378480  \n",
       "std        29.877632  \n",
       "min      1896.000000  \n",
       "25%      1960.000000  \n",
       "50%      1988.000000  \n",
       "75%      2002.000000  \n",
       "max      2016.000000  "
      ]
     },
     "execution_count": 10,
     "metadata": {},
     "output_type": "execute_result"
    }
   ],
   "source": [
    "atletas_df.describe()"
   ]
  },
  {
   "cell_type": "markdown",
   "id": "71de0f02",
   "metadata": {
    "papermill": {
     "duration": 0.017355,
     "end_time": "2023-03-28T04:23:47.671696",
     "exception": false,
     "start_time": "2023-03-28T04:23:47.654341",
     "status": "completed"
    },
    "tags": []
   },
   "source": [
    "## Resumen estadístico de las variables categoricas"
   ]
  },
  {
   "cell_type": "code",
   "execution_count": 11,
   "id": "900f6d42",
   "metadata": {
    "execution": {
     "iopub.execute_input": "2023-03-28T04:23:47.708101Z",
     "iopub.status.busy": "2023-03-28T04:23:47.706853Z",
     "iopub.status.idle": "2023-03-28T04:23:48.195421Z",
     "shell.execute_reply": "2023-03-28T04:23:48.194121Z"
    },
    "papermill": {
     "duration": 0.508979,
     "end_time": "2023-03-28T04:23:48.197747",
     "exception": false,
     "start_time": "2023-03-28T04:23:47.688768",
     "status": "completed"
    },
    "tags": []
   },
   "outputs": [
    {
     "data": {
      "text/html": [
       "<div>\n",
       "<style scoped>\n",
       "    .dataframe tbody tr th:only-of-type {\n",
       "        vertical-align: middle;\n",
       "    }\n",
       "\n",
       "    .dataframe tbody tr th {\n",
       "        vertical-align: top;\n",
       "    }\n",
       "\n",
       "    .dataframe thead th {\n",
       "        text-align: right;\n",
       "    }\n",
       "</style>\n",
       "<table border=\"1\" class=\"dataframe\">\n",
       "  <thead>\n",
       "    <tr style=\"text-align: right;\">\n",
       "      <th></th>\n",
       "      <th>Name</th>\n",
       "      <th>Sex</th>\n",
       "      <th>Team</th>\n",
       "      <th>NOC</th>\n",
       "      <th>Games</th>\n",
       "      <th>Season</th>\n",
       "      <th>City</th>\n",
       "      <th>Sport</th>\n",
       "      <th>Event</th>\n",
       "      <th>Medal</th>\n",
       "      <th>Region</th>\n",
       "      <th>Notes</th>\n",
       "    </tr>\n",
       "  </thead>\n",
       "  <tbody>\n",
       "    <tr>\n",
       "      <th>count</th>\n",
       "      <td>271116</td>\n",
       "      <td>271116</td>\n",
       "      <td>271116</td>\n",
       "      <td>271116</td>\n",
       "      <td>271116</td>\n",
       "      <td>271116</td>\n",
       "      <td>271116</td>\n",
       "      <td>271116</td>\n",
       "      <td>271116</td>\n",
       "      <td>39783</td>\n",
       "      <td>270746</td>\n",
       "      <td>5039</td>\n",
       "    </tr>\n",
       "    <tr>\n",
       "      <th>unique</th>\n",
       "      <td>134732</td>\n",
       "      <td>2</td>\n",
       "      <td>1184</td>\n",
       "      <td>230</td>\n",
       "      <td>51</td>\n",
       "      <td>2</td>\n",
       "      <td>42</td>\n",
       "      <td>66</td>\n",
       "      <td>765</td>\n",
       "      <td>3</td>\n",
       "      <td>205</td>\n",
       "      <td>21</td>\n",
       "    </tr>\n",
       "    <tr>\n",
       "      <th>top</th>\n",
       "      <td>Robert Tait McKenzie</td>\n",
       "      <td>M</td>\n",
       "      <td>United States</td>\n",
       "      <td>USA</td>\n",
       "      <td>2000 Summer</td>\n",
       "      <td>Summer</td>\n",
       "      <td>London</td>\n",
       "      <td>Athletics</td>\n",
       "      <td>Football Men's Football</td>\n",
       "      <td>Gold</td>\n",
       "      <td>USA</td>\n",
       "      <td>Yugoslavia</td>\n",
       "    </tr>\n",
       "    <tr>\n",
       "      <th>freq</th>\n",
       "      <td>58</td>\n",
       "      <td>196594</td>\n",
       "      <td>17847</td>\n",
       "      <td>18853</td>\n",
       "      <td>13821</td>\n",
       "      <td>222552</td>\n",
       "      <td>22426</td>\n",
       "      <td>38624</td>\n",
       "      <td>5733</td>\n",
       "      <td>13372</td>\n",
       "      <td>18853</td>\n",
       "      <td>2583</td>\n",
       "    </tr>\n",
       "  </tbody>\n",
       "</table>\n",
       "</div>"
      ],
      "text/plain": [
       "                        Name     Sex           Team     NOC        Games  \\\n",
       "count                 271116  271116         271116  271116       271116   \n",
       "unique                134732       2           1184     230           51   \n",
       "top     Robert Tait McKenzie       M  United States     USA  2000 Summer   \n",
       "freq                      58  196594          17847   18853        13821   \n",
       "\n",
       "        Season    City      Sport                    Event  Medal  Region  \\\n",
       "count   271116  271116     271116                   271116  39783  270746   \n",
       "unique       2      42         66                      765      3     205   \n",
       "top     Summer  London  Athletics  Football Men's Football   Gold     USA   \n",
       "freq    222552   22426      38624                     5733  13372   18853   \n",
       "\n",
       "             Notes  \n",
       "count         5039  \n",
       "unique          21  \n",
       "top     Yugoslavia  \n",
       "freq          2583  "
      ]
     },
     "execution_count": 11,
     "metadata": {},
     "output_type": "execute_result"
    }
   ],
   "source": [
    "atletas_df.describe(exclude=np.number)"
   ]
  },
  {
   "cell_type": "markdown",
   "id": "4bbe48cd",
   "metadata": {
    "papermill": {
     "duration": 0.016441,
     "end_time": "2023-03-28T04:23:48.230949",
     "exception": false,
     "start_time": "2023-03-28T04:23:48.214508",
     "status": "completed"
    },
    "tags": []
   },
   "source": [
    "## Valores faltantes"
   ]
  },
  {
   "cell_type": "code",
   "execution_count": 12,
   "id": "65b3c2a1",
   "metadata": {
    "execution": {
     "iopub.execute_input": "2023-03-28T04:23:48.267169Z",
     "iopub.status.busy": "2023-03-28T04:23:48.265978Z",
     "iopub.status.idle": "2023-03-28T04:23:48.422163Z",
     "shell.execute_reply": "2023-03-28T04:23:48.420968Z"
    },
    "papermill": {
     "duration": 0.177404,
     "end_time": "2023-03-28T04:23:48.425204",
     "exception": false,
     "start_time": "2023-03-28T04:23:48.247800",
     "status": "completed"
    },
    "tags": []
   },
   "outputs": [
    {
     "data": {
      "text/plain": [
       "ID        False\n",
       "Name      False\n",
       "Sex       False\n",
       "Age        True\n",
       "Height     True\n",
       "Weight     True\n",
       "Team      False\n",
       "NOC       False\n",
       "Games     False\n",
       "Year      False\n",
       "Season    False\n",
       "City      False\n",
       "Sport     False\n",
       "Event     False\n",
       "Medal      True\n",
       "Region     True\n",
       "Notes      True\n",
       "dtype: bool"
      ]
     },
     "execution_count": 12,
     "metadata": {},
     "output_type": "execute_result"
    }
   ],
   "source": [
    "columnas_nan = atletas_df.isna().any()\n",
    "columnas_nan"
   ]
  },
  {
   "cell_type": "code",
   "execution_count": 13,
   "id": "3552af73",
   "metadata": {
    "execution": {
     "iopub.execute_input": "2023-03-28T04:23:48.462595Z",
     "iopub.status.busy": "2023-03-28T04:23:48.462153Z",
     "iopub.status.idle": "2023-03-28T04:23:48.623882Z",
     "shell.execute_reply": "2023-03-28T04:23:48.622725Z"
    },
    "papermill": {
     "duration": 0.183125,
     "end_time": "2023-03-28T04:23:48.626551",
     "exception": false,
     "start_time": "2023-03-28T04:23:48.443426",
     "status": "completed"
    },
    "tags": []
   },
   "outputs": [
    {
     "data": {
      "text/plain": [
       "ID             0\n",
       "Name           0\n",
       "Sex            0\n",
       "Age         9474\n",
       "Height     60171\n",
       "Weight     62875\n",
       "Team           0\n",
       "NOC            0\n",
       "Games          0\n",
       "Year           0\n",
       "Season         0\n",
       "City           0\n",
       "Sport          0\n",
       "Event          0\n",
       "Medal     231333\n",
       "Region       370\n",
       "Notes     266077\n",
       "dtype: int64"
      ]
     },
     "execution_count": 13,
     "metadata": {},
     "output_type": "execute_result"
    }
   ],
   "source": [
    "atletas_df.isna().sum()"
   ]
  },
  {
   "cell_type": "markdown",
   "id": "fa982c89",
   "metadata": {
    "papermill": {
     "duration": 0.016937,
     "end_time": "2023-03-28T04:23:48.661012",
     "exception": false,
     "start_time": "2023-03-28T04:23:48.644075",
     "status": "completed"
    },
    "tags": []
   },
   "source": []
  },
  {
   "cell_type": "markdown",
   "id": "ca782004",
   "metadata": {
    "papermill": {
     "duration": 0.017374,
     "end_time": "2023-03-28T04:23:48.696117",
     "exception": false,
     "start_time": "2023-03-28T04:23:48.678743",
     "status": "completed"
    },
    "tags": []
   },
   "source": [
    "## Colombia"
   ]
  },
  {
   "cell_type": "code",
   "execution_count": 14,
   "id": "767710ab",
   "metadata": {
    "execution": {
     "iopub.execute_input": "2023-03-28T04:23:48.733462Z",
     "iopub.status.busy": "2023-03-28T04:23:48.732808Z",
     "iopub.status.idle": "2023-03-28T04:23:48.774801Z",
     "shell.execute_reply": "2023-03-28T04:23:48.773525Z"
    },
    "papermill": {
     "duration": 0.063764,
     "end_time": "2023-03-28T04:23:48.777505",
     "exception": false,
     "start_time": "2023-03-28T04:23:48.713741",
     "status": "completed"
    },
    "tags": []
   },
   "outputs": [
    {
     "data": {
      "text/html": [
       "<div>\n",
       "<style scoped>\n",
       "    .dataframe tbody tr th:only-of-type {\n",
       "        vertical-align: middle;\n",
       "    }\n",
       "\n",
       "    .dataframe tbody tr th {\n",
       "        vertical-align: top;\n",
       "    }\n",
       "\n",
       "    .dataframe thead th {\n",
       "        text-align: right;\n",
       "    }\n",
       "</style>\n",
       "<table border=\"1\" class=\"dataframe\">\n",
       "  <thead>\n",
       "    <tr style=\"text-align: right;\">\n",
       "      <th></th>\n",
       "      <th>ID</th>\n",
       "      <th>Name</th>\n",
       "      <th>Sex</th>\n",
       "      <th>Age</th>\n",
       "      <th>Height</th>\n",
       "      <th>Weight</th>\n",
       "      <th>Team</th>\n",
       "      <th>NOC</th>\n",
       "      <th>Games</th>\n",
       "      <th>Year</th>\n",
       "      <th>Season</th>\n",
       "      <th>City</th>\n",
       "      <th>Sport</th>\n",
       "      <th>Event</th>\n",
       "      <th>Medal</th>\n",
       "      <th>Region</th>\n",
       "      <th>Notes</th>\n",
       "    </tr>\n",
       "  </thead>\n",
       "  <tbody>\n",
       "    <tr>\n",
       "      <th>1026</th>\n",
       "      <td>574</td>\n",
       "      <td>rika Abril Surez</td>\n",
       "      <td>F</td>\n",
       "      <td>34.0</td>\n",
       "      <td>164.0</td>\n",
       "      <td>52.0</td>\n",
       "      <td>Colombia</td>\n",
       "      <td>COL</td>\n",
       "      <td>2012 Summer</td>\n",
       "      <td>2012</td>\n",
       "      <td>Summer</td>\n",
       "      <td>London</td>\n",
       "      <td>Athletics</td>\n",
       "      <td>Athletics Women's Marathon</td>\n",
       "      <td>NaN</td>\n",
       "      <td>Colombia</td>\n",
       "      <td>NaN</td>\n",
       "    </tr>\n",
       "    <tr>\n",
       "      <th>1027</th>\n",
       "      <td>574</td>\n",
       "      <td>rika Abril Surez</td>\n",
       "      <td>F</td>\n",
       "      <td>38.0</td>\n",
       "      <td>164.0</td>\n",
       "      <td>52.0</td>\n",
       "      <td>Colombia</td>\n",
       "      <td>COL</td>\n",
       "      <td>2016 Summer</td>\n",
       "      <td>2016</td>\n",
       "      <td>Summer</td>\n",
       "      <td>Rio de Janeiro</td>\n",
       "      <td>Athletics</td>\n",
       "      <td>Athletics Women's Marathon</td>\n",
       "      <td>NaN</td>\n",
       "      <td>Colombia</td>\n",
       "      <td>NaN</td>\n",
       "    </tr>\n",
       "    <tr>\n",
       "      <th>1028</th>\n",
       "      <td>575</td>\n",
       "      <td>Laura Valentina Abril Restrepo</td>\n",
       "      <td>F</td>\n",
       "      <td>22.0</td>\n",
       "      <td>162.0</td>\n",
       "      <td>50.0</td>\n",
       "      <td>Colombia</td>\n",
       "      <td>COL</td>\n",
       "      <td>2012 Summer</td>\n",
       "      <td>2012</td>\n",
       "      <td>Summer</td>\n",
       "      <td>London</td>\n",
       "      <td>Cycling</td>\n",
       "      <td>Cycling Women's Mountainbike, Cross-Country</td>\n",
       "      <td>NaN</td>\n",
       "      <td>Colombia</td>\n",
       "      <td>NaN</td>\n",
       "    </tr>\n",
       "    <tr>\n",
       "      <th>1163</th>\n",
       "      <td>647</td>\n",
       "      <td>Eyne Acevedo Tabares</td>\n",
       "      <td>M</td>\n",
       "      <td>22.0</td>\n",
       "      <td>NaN</td>\n",
       "      <td>67.0</td>\n",
       "      <td>Colombia</td>\n",
       "      <td>COL</td>\n",
       "      <td>1992 Summer</td>\n",
       "      <td>1992</td>\n",
       "      <td>Summer</td>\n",
       "      <td>Barcelona</td>\n",
       "      <td>Weightlifting</td>\n",
       "      <td>Weightlifting Men's Lightweight</td>\n",
       "      <td>NaN</td>\n",
       "      <td>Colombia</td>\n",
       "      <td>NaN</td>\n",
       "    </tr>\n",
       "    <tr>\n",
       "      <th>1164</th>\n",
       "      <td>648</td>\n",
       "      <td>Fabio Acevedo</td>\n",
       "      <td>M</td>\n",
       "      <td>22.0</td>\n",
       "      <td>171.0</td>\n",
       "      <td>70.0</td>\n",
       "      <td>Colombia</td>\n",
       "      <td>COL</td>\n",
       "      <td>1972 Summer</td>\n",
       "      <td>1972</td>\n",
       "      <td>Summer</td>\n",
       "      <td>Munich</td>\n",
       "      <td>Cycling</td>\n",
       "      <td>Cycling Men's Road Race, Individual</td>\n",
       "      <td>NaN</td>\n",
       "      <td>Colombia</td>\n",
       "      <td>NaN</td>\n",
       "    </tr>\n",
       "    <tr>\n",
       "      <th>...</th>\n",
       "      <td>...</td>\n",
       "      <td>...</td>\n",
       "      <td>...</td>\n",
       "      <td>...</td>\n",
       "      <td>...</td>\n",
       "      <td>...</td>\n",
       "      <td>...</td>\n",
       "      <td>...</td>\n",
       "      <td>...</td>\n",
       "      <td>...</td>\n",
       "      <td>...</td>\n",
       "      <td>...</td>\n",
       "      <td>...</td>\n",
       "      <td>...</td>\n",
       "      <td>...</td>\n",
       "      <td>...</td>\n",
       "      <td>...</td>\n",
       "    </tr>\n",
       "    <tr>\n",
       "      <th>270775</th>\n",
       "      <td>135417</td>\n",
       "      <td>Fabiola Zuluaga Amado</td>\n",
       "      <td>F</td>\n",
       "      <td>21.0</td>\n",
       "      <td>171.0</td>\n",
       "      <td>65.0</td>\n",
       "      <td>Colombia</td>\n",
       "      <td>COL</td>\n",
       "      <td>2000 Summer</td>\n",
       "      <td>2000</td>\n",
       "      <td>Summer</td>\n",
       "      <td>Sydney</td>\n",
       "      <td>Tennis</td>\n",
       "      <td>Tennis Women's Singles</td>\n",
       "      <td>NaN</td>\n",
       "      <td>Colombia</td>\n",
       "      <td>NaN</td>\n",
       "    </tr>\n",
       "    <tr>\n",
       "      <th>270776</th>\n",
       "      <td>135417</td>\n",
       "      <td>Fabiola Zuluaga Amado</td>\n",
       "      <td>F</td>\n",
       "      <td>21.0</td>\n",
       "      <td>171.0</td>\n",
       "      <td>65.0</td>\n",
       "      <td>Colombia</td>\n",
       "      <td>COL</td>\n",
       "      <td>2000 Summer</td>\n",
       "      <td>2000</td>\n",
       "      <td>Summer</td>\n",
       "      <td>Sydney</td>\n",
       "      <td>Tennis</td>\n",
       "      <td>Tennis Women's Doubles</td>\n",
       "      <td>NaN</td>\n",
       "      <td>Colombia</td>\n",
       "      <td>NaN</td>\n",
       "    </tr>\n",
       "    <tr>\n",
       "      <th>270777</th>\n",
       "      <td>135417</td>\n",
       "      <td>Fabiola Zuluaga Amado</td>\n",
       "      <td>F</td>\n",
       "      <td>25.0</td>\n",
       "      <td>171.0</td>\n",
       "      <td>65.0</td>\n",
       "      <td>Colombia</td>\n",
       "      <td>COL</td>\n",
       "      <td>2004 Summer</td>\n",
       "      <td>2004</td>\n",
       "      <td>Summer</td>\n",
       "      <td>Athina</td>\n",
       "      <td>Tennis</td>\n",
       "      <td>Tennis Women's Singles</td>\n",
       "      <td>NaN</td>\n",
       "      <td>Colombia</td>\n",
       "      <td>NaN</td>\n",
       "    </tr>\n",
       "    <tr>\n",
       "      <th>270778</th>\n",
       "      <td>135417</td>\n",
       "      <td>Fabiola Zuluaga Amado</td>\n",
       "      <td>F</td>\n",
       "      <td>25.0</td>\n",
       "      <td>171.0</td>\n",
       "      <td>65.0</td>\n",
       "      <td>Colombia</td>\n",
       "      <td>COL</td>\n",
       "      <td>2004 Summer</td>\n",
       "      <td>2004</td>\n",
       "      <td>Summer</td>\n",
       "      <td>Athina</td>\n",
       "      <td>Tennis</td>\n",
       "      <td>Tennis Women's Doubles</td>\n",
       "      <td>NaN</td>\n",
       "      <td>Colombia</td>\n",
       "      <td>NaN</td>\n",
       "    </tr>\n",
       "    <tr>\n",
       "      <th>270814</th>\n",
       "      <td>135441</td>\n",
       "      <td>Rafael Zuiga Medrano</td>\n",
       "      <td>M</td>\n",
       "      <td>21.0</td>\n",
       "      <td>173.0</td>\n",
       "      <td>57.0</td>\n",
       "      <td>Colombia</td>\n",
       "      <td>COL</td>\n",
       "      <td>1984 Summer</td>\n",
       "      <td>1984</td>\n",
       "      <td>Summer</td>\n",
       "      <td>Los Angeles</td>\n",
       "      <td>Boxing</td>\n",
       "      <td>Boxing Men's Featherweight</td>\n",
       "      <td>NaN</td>\n",
       "      <td>Colombia</td>\n",
       "      <td>NaN</td>\n",
       "    </tr>\n",
       "  </tbody>\n",
       "</table>\n",
       "<p>1068 rows × 17 columns</p>\n",
       "</div>"
      ],
      "text/plain": [
       "            ID                            Name Sex   Age  Height  Weight  \\\n",
       "1026       574                rika Abril Surez   F  34.0   164.0    52.0   \n",
       "1027       574                rika Abril Surez   F  38.0   164.0    52.0   \n",
       "1028       575  Laura Valentina Abril Restrepo   F  22.0   162.0    50.0   \n",
       "1163       647            Eyne Acevedo Tabares   M  22.0     NaN    67.0   \n",
       "1164       648                   Fabio Acevedo   M  22.0   171.0    70.0   \n",
       "...        ...                             ...  ..   ...     ...     ...   \n",
       "270775  135417           Fabiola Zuluaga Amado   F  21.0   171.0    65.0   \n",
       "270776  135417           Fabiola Zuluaga Amado   F  21.0   171.0    65.0   \n",
       "270777  135417           Fabiola Zuluaga Amado   F  25.0   171.0    65.0   \n",
       "270778  135417           Fabiola Zuluaga Amado   F  25.0   171.0    65.0   \n",
       "270814  135441            Rafael Zuiga Medrano   M  21.0   173.0    57.0   \n",
       "\n",
       "            Team  NOC        Games  Year  Season            City  \\\n",
       "1026    Colombia  COL  2012 Summer  2012  Summer          London   \n",
       "1027    Colombia  COL  2016 Summer  2016  Summer  Rio de Janeiro   \n",
       "1028    Colombia  COL  2012 Summer  2012  Summer          London   \n",
       "1163    Colombia  COL  1992 Summer  1992  Summer       Barcelona   \n",
       "1164    Colombia  COL  1972 Summer  1972  Summer          Munich   \n",
       "...          ...  ...          ...   ...     ...             ...   \n",
       "270775  Colombia  COL  2000 Summer  2000  Summer          Sydney   \n",
       "270776  Colombia  COL  2000 Summer  2000  Summer          Sydney   \n",
       "270777  Colombia  COL  2004 Summer  2004  Summer          Athina   \n",
       "270778  Colombia  COL  2004 Summer  2004  Summer          Athina   \n",
       "270814  Colombia  COL  1984 Summer  1984  Summer     Los Angeles   \n",
       "\n",
       "                Sport                                        Event Medal  \\\n",
       "1026        Athletics                   Athletics Women's Marathon   NaN   \n",
       "1027        Athletics                   Athletics Women's Marathon   NaN   \n",
       "1028          Cycling  Cycling Women's Mountainbike, Cross-Country   NaN   \n",
       "1163    Weightlifting              Weightlifting Men's Lightweight   NaN   \n",
       "1164          Cycling          Cycling Men's Road Race, Individual   NaN   \n",
       "...               ...                                          ...   ...   \n",
       "270775         Tennis                       Tennis Women's Singles   NaN   \n",
       "270776         Tennis                       Tennis Women's Doubles   NaN   \n",
       "270777         Tennis                       Tennis Women's Singles   NaN   \n",
       "270778         Tennis                       Tennis Women's Doubles   NaN   \n",
       "270814         Boxing                   Boxing Men's Featherweight   NaN   \n",
       "\n",
       "          Region Notes  \n",
       "1026    Colombia   NaN  \n",
       "1027    Colombia   NaN  \n",
       "1028    Colombia   NaN  \n",
       "1163    Colombia   NaN  \n",
       "1164    Colombia   NaN  \n",
       "...          ...   ...  \n",
       "270775  Colombia   NaN  \n",
       "270776  Colombia   NaN  \n",
       "270777  Colombia   NaN  \n",
       "270778  Colombia   NaN  \n",
       "270814  Colombia   NaN  \n",
       "\n",
       "[1068 rows x 17 columns]"
      ]
     },
     "execution_count": 14,
     "metadata": {},
     "output_type": "execute_result"
    }
   ],
   "source": [
    "atletas_df.query('Team == \"Colombia\"')"
   ]
  },
  {
   "cell_type": "markdown",
   "id": "0b3a9bba",
   "metadata": {
    "papermill": {
     "duration": 0.017344,
     "end_time": "2023-03-28T04:23:48.813067",
     "exception": false,
     "start_time": "2023-03-28T04:23:48.795723",
     "status": "completed"
    },
    "tags": []
   },
   "source": [
    "## Top de paises con más participaciones"
   ]
  },
  {
   "cell_type": "code",
   "execution_count": 15,
   "id": "f5dcffbc",
   "metadata": {
    "execution": {
     "iopub.execute_input": "2023-03-28T04:23:48.850816Z",
     "iopub.status.busy": "2023-03-28T04:23:48.850386Z",
     "iopub.status.idle": "2023-03-28T04:23:48.878022Z",
     "shell.execute_reply": "2023-03-28T04:23:48.876526Z"
    },
    "papermill": {
     "duration": 0.049133,
     "end_time": "2023-03-28T04:23:48.880392",
     "exception": false,
     "start_time": "2023-03-28T04:23:48.831259",
     "status": "completed"
    },
    "tags": []
   },
   "outputs": [
    {
     "data": {
      "text/plain": [
       "United States    17847\n",
       "France           11988\n",
       "Great Britain    11404\n",
       "Italy            10260\n",
       "Germany           9326\n",
       "Canada            9279\n",
       "Japan             8289\n",
       "Sweden            8052\n",
       "Australia         7513\n",
       "Hungary           6547\n",
       "Name: Team, dtype: int64"
      ]
     },
     "execution_count": 15,
     "metadata": {},
     "output_type": "execute_result"
    }
   ],
   "source": [
    "top_10_paises = (\n",
    "    atletas_df.Team.value_counts()\n",
    "    .sort_values(ascending=False).head(10)\n",
    ")\n",
    "top_10_paises"
   ]
  },
  {
   "cell_type": "code",
   "execution_count": 16,
   "id": "7ac4780e",
   "metadata": {
    "execution": {
     "iopub.execute_input": "2023-03-28T04:23:48.918743Z",
     "iopub.status.busy": "2023-03-28T04:23:48.918312Z",
     "iopub.status.idle": "2023-03-28T04:23:49.207665Z",
     "shell.execute_reply": "2023-03-28T04:23:49.206452Z"
    },
    "papermill": {
     "duration": 0.311503,
     "end_time": "2023-03-28T04:23:49.210437",
     "exception": false,
     "start_time": "2023-03-28T04:23:48.898934",
     "status": "completed"
    },
    "tags": []
   },
   "outputs": [
    {
     "data": {
      "image/png": "[encoded data removed]",
      "text/plain": [
       "<Figure size 640x480 with 1 Axes>"
      ]
     },
     "metadata": {},
     "output_type": "display_data"
    }
   ],
   "source": [
    "\n",
    "sns.barplot(y=top_10_paises.index, x=top_10_paises)\n",
    "plt.title('Paises con mayor participación general')\n",
    "plt.xlabel('Número de participaciones')\n",
    "plt.show()"
   ]
  },
  {
   "cell_type": "markdown",
   "id": "a460f4d8",
   "metadata": {
    "papermill": {
     "duration": 0.017877,
     "end_time": "2023-03-28T04:23:49.246788",
     "exception": false,
     "start_time": "2023-03-28T04:23:49.228911",
     "status": "completed"
    },
    "tags": []
   },
   "source": [
    "## Distribución de edades de los participantes"
   ]
  },
  {
   "cell_type": "code",
   "execution_count": 17,
   "id": "d657dc4b",
   "metadata": {
    "execution": {
     "iopub.execute_input": "2023-03-28T04:23:49.285892Z",
     "iopub.status.busy": "2023-03-28T04:23:49.284835Z",
     "iopub.status.idle": "2023-03-28T04:23:49.296889Z",
     "shell.execute_reply": "2023-03-28T04:23:49.295667Z"
    },
    "papermill": {
     "duration": 0.034315,
     "end_time": "2023-03-28T04:23:49.299492",
     "exception": false,
     "start_time": "2023-03-28T04:23:49.265177",
     "status": "completed"
    },
    "tags": []
   },
   "outputs": [],
   "source": [
    "rango_edad = np.arange(atletas_df.Age.min(), atletas_df.Age.max())\n",
    "eje_x = np.arange(atletas_df.Age.min(), atletas_df.Age.max(), 10)"
   ]
  },
  {
   "cell_type": "code",
   "execution_count": 18,
   "id": "f0b151af",
   "metadata": {
    "execution": {
     "iopub.execute_input": "2023-03-28T04:23:49.337769Z",
     "iopub.status.busy": "2023-03-28T04:23:49.337340Z",
     "iopub.status.idle": "2023-03-28T04:23:50.030290Z",
     "shell.execute_reply": "2023-03-28T04:23:50.029053Z"
    },
    "papermill": {
     "duration": 0.715296,
     "end_time": "2023-03-28T04:23:50.033056",
     "exception": false,
     "start_time": "2023-03-28T04:23:49.317760",
     "status": "completed"
    },
    "tags": []
   },
   "outputs": [
    {
     "data": {
      "image/png": "[encoded data removed]",
      "text/plain": [
       "<Figure size 640x480 with 1 Axes>"
      ]
     },
     "metadata": {},
     "output_type": "display_data"
    }
   ],
   "source": [
    "sns.histplot(atletas_df.Age, bins = rango_edad, label='Distribución')\n",
    "plt.axvline(x=atletas_df.Age.mean(),\n",
    "            color='red', label='Edad promedio')\n",
    "plt.title('Distribución de edades de los atletas')\n",
    "plt.ylabel('Número de atletas')\n",
    "plt.xlabel('Edad')\n",
    "plt.xticks(eje_x)\n",
    "plt.legend()\n",
    "plt.show()"
   ]
  },
  {
   "cell_type": "markdown",
   "id": "2b228764",
   "metadata": {
    "papermill": {
     "duration": 0.018949,
     "end_time": "2023-03-28T04:23:50.070773",
     "exception": false,
     "start_time": "2023-03-28T04:23:50.051824",
     "status": "completed"
    },
    "tags": []
   },
   "source": [
    "### Distribución de edades para Colombia"
   ]
  },
  {
   "cell_type": "code",
   "execution_count": 19,
   "id": "1d047e18",
   "metadata": {
    "execution": {
     "iopub.execute_input": "2023-03-28T04:23:50.110645Z",
     "iopub.status.busy": "2023-03-28T04:23:50.110219Z",
     "iopub.status.idle": "2023-03-28T04:23:50.141792Z",
     "shell.execute_reply": "2023-03-28T04:23:50.140525Z"
    },
    "papermill": {
     "duration": 0.054575,
     "end_time": "2023-03-28T04:23:50.144434",
     "exception": false,
     "start_time": "2023-03-28T04:23:50.089859",
     "status": "completed"
    },
    "tags": []
   },
   "outputs": [
    {
     "data": {
      "text/html": [
       "<div>\n",
       "<style scoped>\n",
       "    .dataframe tbody tr th:only-of-type {\n",
       "        vertical-align: middle;\n",
       "    }\n",
       "\n",
       "    .dataframe tbody tr th {\n",
       "        vertical-align: top;\n",
       "    }\n",
       "\n",
       "    .dataframe thead th {\n",
       "        text-align: right;\n",
       "    }\n",
       "</style>\n",
       "<table border=\"1\" class=\"dataframe\">\n",
       "  <thead>\n",
       "    <tr style=\"text-align: right;\">\n",
       "      <th></th>\n",
       "      <th>ID</th>\n",
       "      <th>Name</th>\n",
       "      <th>Sex</th>\n",
       "      <th>Age</th>\n",
       "      <th>Height</th>\n",
       "      <th>Weight</th>\n",
       "      <th>Team</th>\n",
       "      <th>NOC</th>\n",
       "      <th>Games</th>\n",
       "      <th>Year</th>\n",
       "      <th>Season</th>\n",
       "      <th>City</th>\n",
       "      <th>Sport</th>\n",
       "      <th>Event</th>\n",
       "      <th>Medal</th>\n",
       "      <th>Region</th>\n",
       "      <th>Notes</th>\n",
       "    </tr>\n",
       "  </thead>\n",
       "  <tbody>\n",
       "    <tr>\n",
       "      <th>1026</th>\n",
       "      <td>574</td>\n",
       "      <td>rika Abril Surez</td>\n",
       "      <td>F</td>\n",
       "      <td>34.0</td>\n",
       "      <td>164.0</td>\n",
       "      <td>52.0</td>\n",
       "      <td>Colombia</td>\n",
       "      <td>COL</td>\n",
       "      <td>2012 Summer</td>\n",
       "      <td>2012</td>\n",
       "      <td>Summer</td>\n",
       "      <td>London</td>\n",
       "      <td>Athletics</td>\n",
       "      <td>Athletics Women's Marathon</td>\n",
       "      <td>NaN</td>\n",
       "      <td>Colombia</td>\n",
       "      <td>NaN</td>\n",
       "    </tr>\n",
       "    <tr>\n",
       "      <th>1027</th>\n",
       "      <td>574</td>\n",
       "      <td>rika Abril Surez</td>\n",
       "      <td>F</td>\n",
       "      <td>38.0</td>\n",
       "      <td>164.0</td>\n",
       "      <td>52.0</td>\n",
       "      <td>Colombia</td>\n",
       "      <td>COL</td>\n",
       "      <td>2016 Summer</td>\n",
       "      <td>2016</td>\n",
       "      <td>Summer</td>\n",
       "      <td>Rio de Janeiro</td>\n",
       "      <td>Athletics</td>\n",
       "      <td>Athletics Women's Marathon</td>\n",
       "      <td>NaN</td>\n",
       "      <td>Colombia</td>\n",
       "      <td>NaN</td>\n",
       "    </tr>\n",
       "    <tr>\n",
       "      <th>1028</th>\n",
       "      <td>575</td>\n",
       "      <td>Laura Valentina Abril Restrepo</td>\n",
       "      <td>F</td>\n",
       "      <td>22.0</td>\n",
       "      <td>162.0</td>\n",
       "      <td>50.0</td>\n",
       "      <td>Colombia</td>\n",
       "      <td>COL</td>\n",
       "      <td>2012 Summer</td>\n",
       "      <td>2012</td>\n",
       "      <td>Summer</td>\n",
       "      <td>London</td>\n",
       "      <td>Cycling</td>\n",
       "      <td>Cycling Women's Mountainbike, Cross-Country</td>\n",
       "      <td>NaN</td>\n",
       "      <td>Colombia</td>\n",
       "      <td>NaN</td>\n",
       "    </tr>\n",
       "    <tr>\n",
       "      <th>1163</th>\n",
       "      <td>647</td>\n",
       "      <td>Eyne Acevedo Tabares</td>\n",
       "      <td>M</td>\n",
       "      <td>22.0</td>\n",
       "      <td>NaN</td>\n",
       "      <td>67.0</td>\n",
       "      <td>Colombia</td>\n",
       "      <td>COL</td>\n",
       "      <td>1992 Summer</td>\n",
       "      <td>1992</td>\n",
       "      <td>Summer</td>\n",
       "      <td>Barcelona</td>\n",
       "      <td>Weightlifting</td>\n",
       "      <td>Weightlifting Men's Lightweight</td>\n",
       "      <td>NaN</td>\n",
       "      <td>Colombia</td>\n",
       "      <td>NaN</td>\n",
       "    </tr>\n",
       "    <tr>\n",
       "      <th>1164</th>\n",
       "      <td>648</td>\n",
       "      <td>Fabio Acevedo</td>\n",
       "      <td>M</td>\n",
       "      <td>22.0</td>\n",
       "      <td>171.0</td>\n",
       "      <td>70.0</td>\n",
       "      <td>Colombia</td>\n",
       "      <td>COL</td>\n",
       "      <td>1972 Summer</td>\n",
       "      <td>1972</td>\n",
       "      <td>Summer</td>\n",
       "      <td>Munich</td>\n",
       "      <td>Cycling</td>\n",
       "      <td>Cycling Men's Road Race, Individual</td>\n",
       "      <td>NaN</td>\n",
       "      <td>Colombia</td>\n",
       "      <td>NaN</td>\n",
       "    </tr>\n",
       "  </tbody>\n",
       "</table>\n",
       "</div>"
      ],
      "text/plain": [
       "       ID                            Name Sex   Age  Height  Weight      Team  \\\n",
       "1026  574                rika Abril Surez   F  34.0   164.0    52.0  Colombia   \n",
       "1027  574                rika Abril Surez   F  38.0   164.0    52.0  Colombia   \n",
       "1028  575  Laura Valentina Abril Restrepo   F  22.0   162.0    50.0  Colombia   \n",
       "1163  647            Eyne Acevedo Tabares   M  22.0     NaN    67.0  Colombia   \n",
       "1164  648                   Fabio Acevedo   M  22.0   171.0    70.0  Colombia   \n",
       "\n",
       "      NOC        Games  Year  Season            City          Sport  \\\n",
       "1026  COL  2012 Summer  2012  Summer          London      Athletics   \n",
       "1027  COL  2016 Summer  2016  Summer  Rio de Janeiro      Athletics   \n",
       "1028  COL  2012 Summer  2012  Summer          London        Cycling   \n",
       "1163  COL  1992 Summer  1992  Summer       Barcelona  Weightlifting   \n",
       "1164  COL  1972 Summer  1972  Summer          Munich        Cycling   \n",
       "\n",
       "                                            Event Medal    Region Notes  \n",
       "1026                   Athletics Women's Marathon   NaN  Colombia   NaN  \n",
       "1027                   Athletics Women's Marathon   NaN  Colombia   NaN  \n",
       "1028  Cycling Women's Mountainbike, Cross-Country   NaN  Colombia   NaN  \n",
       "1163              Weightlifting Men's Lightweight   NaN  Colombia   NaN  \n",
       "1164          Cycling Men's Road Race, Individual   NaN  Colombia   NaN  "
      ]
     },
     "execution_count": 19,
     "metadata": {},
     "output_type": "execute_result"
    }
   ],
   "source": [
    "atletas_co_df = atletas_df.query('Team == \"Colombia\"')\n",
    "atletas_co_df.head()"
   ]
  },
  {
   "cell_type": "code",
   "execution_count": 20,
   "id": "028540c4",
   "metadata": {
    "execution": {
     "iopub.execute_input": "2023-03-28T04:23:50.184560Z",
     "iopub.status.busy": "2023-03-28T04:23:50.183686Z",
     "iopub.status.idle": "2023-03-28T04:23:50.191034Z",
     "shell.execute_reply": "2023-03-28T04:23:50.190183Z"
    },
    "papermill": {
     "duration": 0.030182,
     "end_time": "2023-03-28T04:23:50.193638",
     "exception": false,
     "start_time": "2023-03-28T04:23:50.163456",
     "status": "completed"
    },
    "tags": []
   },
   "outputs": [],
   "source": [
    "rango_edad = np.arange(atletas_co_df.Age.min(), atletas_co_df.Age.max())\n",
    "eje_x = np.arange(atletas_co_df.Age.min(), atletas_co_df.Age.max(), 10)"
   ]
  },
  {
   "cell_type": "code",
   "execution_count": 21,
   "id": "a8fe5cd0",
   "metadata": {
    "execution": {
     "iopub.execute_input": "2023-03-28T04:23:50.234036Z",
     "iopub.status.busy": "2023-03-28T04:23:50.233016Z",
     "iopub.status.idle": "2023-03-28T04:23:50.571197Z",
     "shell.execute_reply": "2023-03-28T04:23:50.570035Z"
    },
    "papermill": {
     "duration": 0.361018,
     "end_time": "2023-03-28T04:23:50.573606",
     "exception": false,
     "start_time": "2023-03-28T04:23:50.212588",
     "status": "completed"
    },
    "tags": []
   },
   "outputs": [
    {
     "data": {
      "image/png": "[encoded data removed]",
      "text/plain": [
       "<Figure size 640x480 with 1 Axes>"
      ]
     },
     "metadata": {},
     "output_type": "display_data"
    }
   ],
   "source": [
    "sns.histplot(atletas_co_df.Age, bins = rango_edad, label='Distribución')\n",
    "plt.axvline(x=atletas_co_df.Age.mean(),\n",
    "            color='red', label='Edad promedio')\n",
    "plt.title('Distribución de edades de los atletas')\n",
    "plt.ylabel('Número de atletas')\n",
    "plt.xlabel('Edad')\n",
    "plt.xticks(eje_x)\n",
    "plt.legend()\n",
    "plt.show()"
   ]
  },
  {
   "cell_type": "markdown",
   "id": "74e29e9c",
   "metadata": {
    "papermill": {
     "duration": 0.019976,
     "end_time": "2023-03-28T04:23:50.613235",
     "exception": false,
     "start_time": "2023-03-28T04:23:50.593259",
     "status": "completed"
    },
    "tags": []
   },
   "source": [
    "### Gráficar la distribución de edades para un pais o para todos los paises"
   ]
  },
  {
   "cell_type": "code",
   "execution_count": 22,
   "id": "46b0d3ca",
   "metadata": {
    "execution": {
     "iopub.execute_input": "2023-03-28T04:23:50.655577Z",
     "iopub.status.busy": "2023-03-28T04:23:50.654748Z",
     "iopub.status.idle": "2023-03-28T04:23:50.662718Z",
     "shell.execute_reply": "2023-03-28T04:23:50.661845Z"
    },
    "papermill": {
     "duration": 0.032171,
     "end_time": "2023-03-28T04:23:50.664984",
     "exception": false,
     "start_time": "2023-03-28T04:23:50.632813",
     "status": "completed"
    },
    "tags": []
   },
   "outputs": [],
   "source": [
    "def distribucion_edades(df, pais='' ):\n",
    "    t_pais = '(Todos los paises)'\n",
    "    if pais:\n",
    "        df = atletas_df.query(f'Team == \"{pais}\"')\n",
    "        t_pais = f'( {pais} )'\n",
    "    \n",
    "    rango_edad = np.arange(df.Age.min(), df.Age.max())\n",
    "    eje_x = np.arange(df.Age.min(), df.Age.max(), 10)\n",
    "    \n",
    "    sns.histplot(df.Age, bins = rango_edad, label='Distribución')\n",
    "    plt.axvline(x=df.Age.mean(), label='Edad promedio', color='red')\n",
    "    plt.title(f'Distribución de edades de los atletas {t_pais}')\n",
    "    plt.ylabel('Número de atletas')\n",
    "    plt.xlabel('Edad')\n",
    "    plt.xticks(eje_x)\n",
    "    plt.legend()\n",
    "    plt.show()"
   ]
  },
  {
   "cell_type": "code",
   "execution_count": 23,
   "id": "08958b80",
   "metadata": {
    "execution": {
     "iopub.execute_input": "2023-03-28T04:23:50.707104Z",
     "iopub.status.busy": "2023-03-28T04:23:50.706333Z",
     "iopub.status.idle": "2023-03-28T04:23:51.399355Z",
     "shell.execute_reply": "2023-03-28T04:23:51.398036Z"
    },
    "papermill": {
     "duration": 0.716552,
     "end_time": "2023-03-28T04:23:51.401897",
     "exception": false,
     "start_time": "2023-03-28T04:23:50.685345",
     "status": "completed"
    },
    "tags": []
   },
   "outputs": [
    {
     "data": {
      "image/png": "[encoded data removed]",
      "text/plain": [
       "<Figure size 640x480 with 1 Axes>"
      ]
     },
     "metadata": {},
     "output_type": "display_data"
    }
   ],
   "source": [
    "distribucion_edades(df = atletas_df )\n"
   ]
  },
  {
   "cell_type": "code",
   "execution_count": 24,
   "id": "3c1fc99f",
   "metadata": {
    "execution": {
     "iopub.execute_input": "2023-03-28T04:23:51.445405Z",
     "iopub.status.busy": "2023-03-28T04:23:51.444293Z",
     "iopub.status.idle": "2023-03-28T04:23:51.803672Z",
     "shell.execute_reply": "2023-03-28T04:23:51.802369Z"
    },
    "papermill": {
     "duration": 0.383876,
     "end_time": "2023-03-28T04:23:51.806185",
     "exception": false,
     "start_time": "2023-03-28T04:23:51.422309",
     "status": "completed"
    },
    "tags": []
   },
   "outputs": [
    {
     "data": {
      "image/png": "[encoded data removed]",
      "text/plain": [
       "<Figure size 640x480 with 1 Axes>"
      ]
     },
     "metadata": {},
     "output_type": "display_data"
    }
   ],
   "source": [
    "distribucion_edades(df = atletas_df, pais='Colombia' )"
   ]
  },
  {
   "cell_type": "code",
   "execution_count": 25,
   "id": "facb6f8b",
   "metadata": {
    "execution": {
     "iopub.execute_input": "2023-03-28T04:23:51.849896Z",
     "iopub.status.busy": "2023-03-28T04:23:51.849474Z",
     "iopub.status.idle": "2023-03-28T04:23:52.266911Z",
     "shell.execute_reply": "2023-03-28T04:23:52.266061Z"
    },
    "papermill": {
     "duration": 0.442629,
     "end_time": "2023-03-28T04:23:52.269659",
     "exception": false,
     "start_time": "2023-03-28T04:23:51.827030",
     "status": "completed"
    },
    "tags": []
   },
   "outputs": [
    {
     "data": {
      "image/png": "[encoded data removed]",
      "text/plain": [
       "<Figure size 640x480 with 1 Axes>"
      ]
     },
     "metadata": {},
     "output_type": "display_data"
    }
   ],
   "source": [
    "distribucion_edades(df = atletas_df, pais='Italy' )"
   ]
  },
  {
   "cell_type": "markdown",
   "id": "edfb242c",
   "metadata": {
    "papermill": {
     "duration": 0.02155,
     "end_time": "2023-03-28T04:23:52.313408",
     "exception": false,
     "start_time": "2023-03-28T04:23:52.291858",
     "status": "completed"
    },
    "tags": []
   },
   "source": [
    "## ¿Cuáles son los deportes de invierno?"
   ]
  },
  {
   "cell_type": "code",
   "execution_count": 26,
   "id": "b5f1ba3e",
   "metadata": {
    "execution": {
     "iopub.execute_input": "2023-03-28T04:23:52.358409Z",
     "iopub.status.busy": "2023-03-28T04:23:52.357670Z",
     "iopub.status.idle": "2023-03-28T04:23:52.390714Z",
     "shell.execute_reply": "2023-03-28T04:23:52.389484Z"
    },
    "papermill": {
     "duration": 0.058663,
     "end_time": "2023-03-28T04:23:52.393522",
     "exception": false,
     "start_time": "2023-03-28T04:23:52.334859",
     "status": "completed"
    },
    "tags": []
   },
   "outputs": [
    {
     "data": {
      "text/plain": [
       "array(['Speed Skating', 'Cross Country Skiing', 'Ice Hockey', 'Biathlon',\n",
       "       'Alpine Skiing', 'Luge', 'Bobsleigh', 'Figure Skating',\n",
       "       'Nordic Combined', 'Freestyle Skiing', 'Ski Jumping', 'Curling',\n",
       "       'Snowboarding', 'Short Track Speed Skating', 'Skeleton',\n",
       "       'Military Ski Patrol', 'Alpinism'], dtype=object)"
      ]
     },
     "execution_count": 26,
     "metadata": {},
     "output_type": "execute_result"
    }
   ],
   "source": [
    "atletas_df.query('Season == \"Winter\"').Sport.unique()"
   ]
  },
  {
   "cell_type": "markdown",
   "id": "96838845",
   "metadata": {
    "papermill": {
     "duration": 0.021017,
     "end_time": "2023-03-28T04:23:52.436090",
     "exception": false,
     "start_time": "2023-03-28T04:23:52.415073",
     "status": "completed"
    },
    "tags": []
   },
   "source": [
    "### ¿Colombia ha participado en alguna temporada de invierno? ¿Cuántas participaciones ha tenido? ¿En qué deporte?"
   ]
  },
  {
   "cell_type": "code",
   "execution_count": 27,
   "id": "df1b2904",
   "metadata": {
    "execution": {
     "iopub.execute_input": "2023-03-28T04:23:52.482603Z",
     "iopub.status.busy": "2023-03-28T04:23:52.481370Z",
     "iopub.status.idle": "2023-03-28T04:23:52.511380Z",
     "shell.execute_reply": "2023-03-28T04:23:52.510102Z"
    },
    "papermill": {
     "duration": 0.055606,
     "end_time": "2023-03-28T04:23:52.513999",
     "exception": false,
     "start_time": "2023-03-28T04:23:52.458393",
     "status": "completed"
    },
    "tags": []
   },
   "outputs": [
    {
     "data": {
      "text/plain": [
       "Team      Season  Sport        \n",
       "Colombia  Winter  Alpine Skiing    2\n",
       "Name: Sport, dtype: int64"
      ]
     },
     "execution_count": 27,
     "metadata": {},
     "output_type": "execute_result"
    }
   ],
   "source": [
    "atletas_df.query('Season == \"Winter\" & Team == \"Colombia\"').groupby(['Team', 'Season', 'Sport'])['Sport'].count()"
   ]
  },
  {
   "cell_type": "markdown",
   "id": "d868e7af",
   "metadata": {
    "papermill": {
     "duration": 0.021699,
     "end_time": "2023-03-28T04:23:52.557690",
     "exception": false,
     "start_time": "2023-03-28T04:23:52.535991",
     "status": "completed"
    },
    "tags": []
   },
   "source": [
    "## ¿Cuáles son los deportes de verano?"
   ]
  },
  {
   "cell_type": "code",
   "execution_count": 28,
   "id": "1c5b7d84",
   "metadata": {
    "execution": {
     "iopub.execute_input": "2023-03-28T04:23:52.602119Z",
     "iopub.status.busy": "2023-03-28T04:23:52.601668Z",
     "iopub.status.idle": "2023-03-28T04:23:52.692892Z",
     "shell.execute_reply": "2023-03-28T04:23:52.691496Z"
    },
    "papermill": {
     "duration": 0.116839,
     "end_time": "2023-03-28T04:23:52.695788",
     "exception": false,
     "start_time": "2023-03-28T04:23:52.578949",
     "status": "completed"
    },
    "tags": []
   },
   "outputs": [
    {
     "data": {
      "text/plain": [
       "array(['Basketball', 'Judo', 'Football', 'Tug-Of-War', 'Athletics',\n",
       "       'Swimming', 'Badminton', 'Sailing', 'Gymnastics',\n",
       "       'Art Competitions', 'Handball', 'Weightlifting', 'Wrestling',\n",
       "       'Water Polo', 'Hockey', 'Rowing', 'Fencing', 'Equestrianism',\n",
       "       'Shooting', 'Boxing', 'Taekwondo', 'Cycling', 'Diving', 'Canoeing',\n",
       "       'Tennis', 'Modern Pentathlon', 'Golf', 'Softball', 'Archery',\n",
       "       'Volleyball', 'Synchronized Swimming', 'Table Tennis', 'Baseball',\n",
       "       'Rhythmic Gymnastics', 'Rugby Sevens', 'Trampolining',\n",
       "       'Beach Volleyball', 'Triathlon', 'Rugby', 'Lacrosse', 'Polo',\n",
       "       'Cricket', 'Ice Hockey', 'Racquets', 'Motorboating', 'Croquet',\n",
       "       'Figure Skating', 'Jeu De Paume', 'Roque', 'Basque Pelota',\n",
       "       'Alpinism', 'Aeronautics'], dtype=object)"
      ]
     },
     "execution_count": 28,
     "metadata": {},
     "output_type": "execute_result"
    }
   ],
   "source": [
    "atletas_df.query('Season == \"Summer\"').Sport.unique()\n"
   ]
  },
  {
   "cell_type": "markdown",
   "id": "bd388734",
   "metadata": {
    "papermill": {
     "duration": 0.021425,
     "end_time": "2023-03-28T04:23:52.739121",
     "exception": false,
     "start_time": "2023-03-28T04:23:52.717696",
     "status": "completed"
    },
    "tags": []
   },
   "source": [
    "## ¿Cuántas participaciones por deporte ha tenido Colombia?"
   ]
  },
  {
   "cell_type": "code",
   "execution_count": 29,
   "id": "7febae35",
   "metadata": {
    "execution": {
     "iopub.execute_input": "2023-03-28T04:23:52.785839Z",
     "iopub.status.busy": "2023-03-28T04:23:52.785451Z",
     "iopub.status.idle": "2023-03-28T04:23:52.818732Z",
     "shell.execute_reply": "2023-03-28T04:23:52.817456Z"
    },
    "papermill": {
     "duration": 0.059494,
     "end_time": "2023-03-28T04:23:52.821385",
     "exception": false,
     "start_time": "2023-03-28T04:23:52.761891",
     "status": "completed"
    },
    "tags": []
   },
   "outputs": [
    {
     "data": {
      "text/plain": [
       "Team      Season  Sport                \n",
       "Colombia  Summer  Athletics                208\n",
       "                  Cycling                  193\n",
       "                  Swimming                 123\n",
       "                  Football                 120\n",
       "                  Weightlifting             65\n",
       "                  Shooting                  63\n",
       "                  Fencing                   62\n",
       "                  Boxing                    47\n",
       "                  Gymnastics                37\n",
       "                  Diving                    24\n",
       "                  Wrestling                 23\n",
       "                  Equestrianism             19\n",
       "                  Archery                   17\n",
       "                  Tennis                    15\n",
       "                  Rugby Sevens              12\n",
       "                  Judo                      12\n",
       "                  Taekwondo                  9\n",
       "                  Sailing                    6\n",
       "                  Table Tennis               3\n",
       "                  Triathlon                  3\n",
       "                  Synchronized Swimming      2\n",
       "                  Art Competitions           1\n",
       "                  Golf                       1\n",
       "                  Rowing                     1\n",
       "Name: Sport, dtype: int64"
      ]
     },
     "execution_count": 29,
     "metadata": {},
     "output_type": "execute_result"
    }
   ],
   "source": [
    "(\n",
    "    atletas_df\n",
    "    .query('Season == \"Summer\" & Team == \"Colombia\"')\n",
    "    .groupby(['Team', 'Season', 'Sport'])['Sport']\n",
    "    .count()\n",
    "    .sort_values(ascending=False)\n",
    ")"
   ]
  },
  {
   "cell_type": "markdown",
   "id": "b90d166b",
   "metadata": {
    "papermill": {
     "duration": 0.021278,
     "end_time": "2023-03-28T04:23:52.864344",
     "exception": false,
     "start_time": "2023-03-28T04:23:52.843066",
     "status": "completed"
    },
    "tags": []
   },
   "source": [
    "## Participaciones femeninas y masculinas"
   ]
  },
  {
   "cell_type": "code",
   "execution_count": 30,
   "id": "6a383134",
   "metadata": {
    "execution": {
     "iopub.execute_input": "2023-03-28T04:23:52.909106Z",
     "iopub.status.busy": "2023-03-28T04:23:52.908676Z",
     "iopub.status.idle": "2023-03-28T04:23:52.928646Z",
     "shell.execute_reply": "2023-03-28T04:23:52.927794Z"
    },
    "papermill": {
     "duration": 0.045149,
     "end_time": "2023-03-28T04:23:52.930991",
     "exception": false,
     "start_time": "2023-03-28T04:23:52.885842",
     "status": "completed"
    },
    "tags": []
   },
   "outputs": [
    {
     "data": {
      "text/plain": [
       "M    196594\n",
       "F     74522\n",
       "Name: Sex, dtype: int64"
      ]
     },
     "execution_count": 30,
     "metadata": {},
     "output_type": "execute_result"
    }
   ],
   "source": [
    "f_m_conteo = atletas_df.Sex.value_counts()\n",
    "f_m_conteo"
   ]
  },
  {
   "cell_type": "code",
   "execution_count": 31,
   "id": "4cce249d",
   "metadata": {
    "execution": {
     "iopub.execute_input": "2023-03-28T04:23:52.975957Z",
     "iopub.status.busy": "2023-03-28T04:23:52.975532Z",
     "iopub.status.idle": "2023-03-28T04:23:53.096329Z",
     "shell.execute_reply": "2023-03-28T04:23:53.094469Z"
    },
    "papermill": {
     "duration": 0.148322,
     "end_time": "2023-03-28T04:23:53.100922",
     "exception": false,
     "start_time": "2023-03-28T04:23:52.952600",
     "status": "completed"
    },
    "tags": []
   },
   "outputs": [
    {
     "data": {
      "image/png": "[encoded data removed]",
      "text/plain": [
       "<Figure size 640x480 with 1 Axes>"
      ]
     },
     "metadata": {},
     "output_type": "display_data"
    }
   ],
   "source": [
    "plt.pie(f_m_conteo, labels=f_m_conteo.index, autopct='%1.1f%%', startangle=150)\n",
    "plt.show()"
   ]
  },
  {
   "cell_type": "markdown",
   "id": "007cf210",
   "metadata": {
    "papermill": {
     "duration": 0.024476,
     "end_time": "2023-03-28T04:23:53.183199",
     "exception": false,
     "start_time": "2023-03-28T04:23:53.158723",
     "status": "completed"
    },
    "tags": []
   },
   "source": [
    "### Participaciones femeninas y masculinas por Colombia"
   ]
  },
  {
   "cell_type": "code",
   "execution_count": 32,
   "id": "5a4251c5",
   "metadata": {
    "execution": {
     "iopub.execute_input": "2023-03-28T04:23:53.229894Z",
     "iopub.status.busy": "2023-03-28T04:23:53.228639Z",
     "iopub.status.idle": "2023-03-28T04:23:53.248934Z",
     "shell.execute_reply": "2023-03-28T04:23:53.247687Z"
    },
    "papermill": {
     "duration": 0.046137,
     "end_time": "2023-03-28T04:23:53.251317",
     "exception": false,
     "start_time": "2023-03-28T04:23:53.205180",
     "status": "completed"
    },
    "tags": []
   },
   "outputs": [
    {
     "data": {
      "text/plain": [
       "M    773\n",
       "F    295\n",
       "Name: Sex, dtype: int64"
      ]
     },
     "execution_count": 32,
     "metadata": {},
     "output_type": "execute_result"
    }
   ],
   "source": [
    "f_m_conteo_co = atletas_df.query('Team == \"Colombia\"').Sex.value_counts()\n",
    "f_m_conteo_co"
   ]
  },
  {
   "cell_type": "code",
   "execution_count": 33,
   "id": "26b5cf28",
   "metadata": {
    "execution": {
     "iopub.execute_input": "2023-03-28T04:23:53.297001Z",
     "iopub.status.busy": "2023-03-28T04:23:53.296567Z",
     "iopub.status.idle": "2023-03-28T04:23:53.403205Z",
     "shell.execute_reply": "2023-03-28T04:23:53.401597Z"
    },
    "papermill": {
     "duration": 0.13496,
     "end_time": "2023-03-28T04:23:53.408213",
     "exception": false,
     "start_time": "2023-03-28T04:23:53.273253",
     "status": "completed"
    },
    "tags": []
   },
   "outputs": [
    {
     "data": {
      "image/png": "[encoded data removed]",
      "text/plain": [
       "<Figure size 640x480 with 1 Axes>"
      ]
     },
     "metadata": {},
     "output_type": "display_data"
    }
   ],
   "source": [
    "plt.pie(f_m_conteo_co, labels=f_m_conteo_co.index, autopct='%1.1f%%', startangle=150)\n",
    "plt.show()"
   ]
  },
  {
   "cell_type": "markdown",
   "id": "02cb533d",
   "metadata": {
    "papermill": {
     "duration": 0.026039,
     "end_time": "2023-03-28T04:23:53.494163",
     "exception": false,
     "start_time": "2023-03-28T04:23:53.468124",
     "status": "completed"
    },
    "tags": []
   },
   "source": [
    "## Número total de medallas"
   ]
  },
  {
   "cell_type": "code",
   "execution_count": 34,
   "id": "654a9a55",
   "metadata": {
    "execution": {
     "iopub.execute_input": "2023-03-28T04:23:53.543051Z",
     "iopub.status.busy": "2023-03-28T04:23:53.542320Z",
     "iopub.status.idle": "2023-03-28T04:23:53.559501Z",
     "shell.execute_reply": "2023-03-28T04:23:53.558235Z"
    },
    "papermill": {
     "duration": 0.044245,
     "end_time": "2023-03-28T04:23:53.562536",
     "exception": false,
     "start_time": "2023-03-28T04:23:53.518291",
     "status": "completed"
    },
    "tags": []
   },
   "outputs": [
    {
     "data": {
      "text/plain": [
       "Gold      13372\n",
       "Bronze    13295\n",
       "Silver    13116\n",
       "Name: Medal, dtype: int64"
      ]
     },
     "execution_count": 34,
     "metadata": {},
     "output_type": "execute_result"
    }
   ],
   "source": [
    "atletas_df.Medal.value_counts()"
   ]
  },
  {
   "cell_type": "markdown",
   "id": "b1e35d11",
   "metadata": {
    "papermill": {
     "duration": 0.02254,
     "end_time": "2023-03-28T04:23:53.607474",
     "exception": false,
     "start_time": "2023-03-28T04:23:53.584934",
     "status": "completed"
    },
    "tags": []
   },
   "source": [
    "## Número total de participantes femeninas por cada olimpiada"
   ]
  },
  {
   "cell_type": "code",
   "execution_count": 35,
   "id": "f3f90565",
   "metadata": {
    "execution": {
     "iopub.execute_input": "2023-03-28T04:23:53.656861Z",
     "iopub.status.busy": "2023-03-28T04:23:53.655558Z",
     "iopub.status.idle": "2023-03-28T04:23:53.709294Z",
     "shell.execute_reply": "2023-03-28T04:23:53.708001Z"
    },
    "papermill": {
     "duration": 0.080581,
     "end_time": "2023-03-28T04:23:53.711864",
     "exception": false,
     "start_time": "2023-03-28T04:23:53.631283",
     "status": "completed"
    },
    "tags": []
   },
   "outputs": [
    {
     "data": {
      "text/html": [
       "<div>\n",
       "<style scoped>\n",
       "    .dataframe tbody tr th:only-of-type {\n",
       "        vertical-align: middle;\n",
       "    }\n",
       "\n",
       "    .dataframe tbody tr th {\n",
       "        vertical-align: top;\n",
       "    }\n",
       "\n",
       "    .dataframe thead th {\n",
       "        text-align: right;\n",
       "    }\n",
       "</style>\n",
       "<table border=\"1\" class=\"dataframe\">\n",
       "  <thead>\n",
       "    <tr style=\"text-align: right;\">\n",
       "      <th></th>\n",
       "      <th>Year</th>\n",
       "      <th>Conteo</th>\n",
       "    </tr>\n",
       "  </thead>\n",
       "  <tbody>\n",
       "    <tr>\n",
       "      <th>0</th>\n",
       "      <td>1900</td>\n",
       "      <td>33</td>\n",
       "    </tr>\n",
       "    <tr>\n",
       "      <th>1</th>\n",
       "      <td>1904</td>\n",
       "      <td>16</td>\n",
       "    </tr>\n",
       "    <tr>\n",
       "      <th>2</th>\n",
       "      <td>1906</td>\n",
       "      <td>11</td>\n",
       "    </tr>\n",
       "    <tr>\n",
       "      <th>3</th>\n",
       "      <td>1908</td>\n",
       "      <td>47</td>\n",
       "    </tr>\n",
       "    <tr>\n",
       "      <th>4</th>\n",
       "      <td>1912</td>\n",
       "      <td>87</td>\n",
       "    </tr>\n",
       "    <tr>\n",
       "      <th>5</th>\n",
       "      <td>1920</td>\n",
       "      <td>134</td>\n",
       "    </tr>\n",
       "    <tr>\n",
       "      <th>6</th>\n",
       "      <td>1924</td>\n",
       "      <td>244</td>\n",
       "    </tr>\n",
       "    <tr>\n",
       "      <th>7</th>\n",
       "      <td>1928</td>\n",
       "      <td>404</td>\n",
       "    </tr>\n",
       "    <tr>\n",
       "      <th>8</th>\n",
       "      <td>1932</td>\n",
       "      <td>347</td>\n",
       "    </tr>\n",
       "    <tr>\n",
       "      <th>9</th>\n",
       "      <td>1936</td>\n",
       "      <td>468</td>\n",
       "    </tr>\n",
       "    <tr>\n",
       "      <th>10</th>\n",
       "      <td>1948</td>\n",
       "      <td>628</td>\n",
       "    </tr>\n",
       "    <tr>\n",
       "      <th>11</th>\n",
       "      <td>1952</td>\n",
       "      <td>1497</td>\n",
       "    </tr>\n",
       "    <tr>\n",
       "      <th>12</th>\n",
       "      <td>1956</td>\n",
       "      <td>893</td>\n",
       "    </tr>\n",
       "    <tr>\n",
       "      <th>13</th>\n",
       "      <td>1960</td>\n",
       "      <td>1435</td>\n",
       "    </tr>\n",
       "    <tr>\n",
       "      <th>14</th>\n",
       "      <td>1964</td>\n",
       "      <td>1348</td>\n",
       "    </tr>\n",
       "    <tr>\n",
       "      <th>15</th>\n",
       "      <td>1968</td>\n",
       "      <td>1777</td>\n",
       "    </tr>\n",
       "    <tr>\n",
       "      <th>16</th>\n",
       "      <td>1972</td>\n",
       "      <td>2193</td>\n",
       "    </tr>\n",
       "    <tr>\n",
       "      <th>17</th>\n",
       "      <td>1976</td>\n",
       "      <td>2172</td>\n",
       "    </tr>\n",
       "    <tr>\n",
       "      <th>18</th>\n",
       "      <td>1980</td>\n",
       "      <td>1756</td>\n",
       "    </tr>\n",
       "    <tr>\n",
       "      <th>19</th>\n",
       "      <td>1984</td>\n",
       "      <td>2447</td>\n",
       "    </tr>\n",
       "    <tr>\n",
       "      <th>20</th>\n",
       "      <td>1988</td>\n",
       "      <td>3543</td>\n",
       "    </tr>\n",
       "    <tr>\n",
       "      <th>21</th>\n",
       "      <td>1992</td>\n",
       "      <td>4124</td>\n",
       "    </tr>\n",
       "    <tr>\n",
       "      <th>22</th>\n",
       "      <td>1996</td>\n",
       "      <td>5008</td>\n",
       "    </tr>\n",
       "    <tr>\n",
       "      <th>23</th>\n",
       "      <td>2000</td>\n",
       "      <td>5431</td>\n",
       "    </tr>\n",
       "    <tr>\n",
       "      <th>24</th>\n",
       "      <td>2004</td>\n",
       "      <td>5546</td>\n",
       "    </tr>\n",
       "    <tr>\n",
       "      <th>25</th>\n",
       "      <td>2008</td>\n",
       "      <td>5816</td>\n",
       "    </tr>\n",
       "    <tr>\n",
       "      <th>26</th>\n",
       "      <td>2012</td>\n",
       "      <td>5815</td>\n",
       "    </tr>\n",
       "    <tr>\n",
       "      <th>27</th>\n",
       "      <td>2016</td>\n",
       "      <td>6223</td>\n",
       "    </tr>\n",
       "  </tbody>\n",
       "</table>\n",
       "</div>"
      ],
      "text/plain": [
       "    Year  Conteo\n",
       "0   1900      33\n",
       "1   1904      16\n",
       "2   1906      11\n",
       "3   1908      47\n",
       "4   1912      87\n",
       "5   1920     134\n",
       "6   1924     244\n",
       "7   1928     404\n",
       "8   1932     347\n",
       "9   1936     468\n",
       "10  1948     628\n",
       "11  1952    1497\n",
       "12  1956     893\n",
       "13  1960    1435\n",
       "14  1964    1348\n",
       "15  1968    1777\n",
       "16  1972    2193\n",
       "17  1976    2172\n",
       "18  1980    1756\n",
       "19  1984    2447\n",
       "20  1988    3543\n",
       "21  1992    4124\n",
       "22  1996    5008\n",
       "23  2000    5431\n",
       "24  2004    5546\n",
       "25  2008    5816\n",
       "26  2012    5815\n",
       "27  2016    6223"
      ]
     },
     "execution_count": 35,
     "metadata": {},
     "output_type": "execute_result"
    }
   ],
   "source": [
    "años_f = (\n",
    "    atletas_df\n",
    "    .query('Sex == \"F\" & Season == \"Summer\"')\n",
    "    .groupby('Year')['Sex'].count().reset_index(name='Conteo')\n",
    ")\n",
    "años_f"
   ]
  },
  {
   "cell_type": "code",
   "execution_count": 36,
   "id": "6537e9c8",
   "metadata": {
    "execution": {
     "iopub.execute_input": "2023-03-28T04:23:53.759888Z",
     "iopub.status.busy": "2023-03-28T04:23:53.759468Z",
     "iopub.status.idle": "2023-03-28T04:23:53.795280Z",
     "shell.execute_reply": "2023-03-28T04:23:53.794205Z"
    },
    "papermill": {
     "duration": 0.063203,
     "end_time": "2023-03-28T04:23:53.798192",
     "exception": false,
     "start_time": "2023-03-28T04:23:53.734989",
     "status": "completed"
    },
    "tags": []
   },
   "outputs": [],
   "source": [
    "f_olimp = atletas_df.query('Sex == \"F\" & Season == \"Summer\"')"
   ]
  },
  {
   "cell_type": "code",
   "execution_count": 37,
   "id": "fa481583",
   "metadata": {
    "execution": {
     "iopub.execute_input": "2023-03-28T04:23:53.847778Z",
     "iopub.status.busy": "2023-03-28T04:23:53.846793Z",
     "iopub.status.idle": "2023-03-28T04:23:54.422165Z",
     "shell.execute_reply": "2023-03-28T04:23:54.420941Z"
    },
    "papermill": {
     "duration": 0.603212,
     "end_time": "2023-03-28T04:23:54.424933",
     "exception": false,
     "start_time": "2023-03-28T04:23:53.821721",
     "status": "completed"
    },
    "tags": []
   },
   "outputs": [
    {
     "data": {
      "image/png": "[encoded data removed]",
      "text/plain": [
       "<Figure size 2000x1000 with 1 Axes>"
      ]
     },
     "metadata": {},
     "output_type": "display_data"
    }
   ],
   "source": [
    "plt.figure(figsize=(20, 10))\n",
    "plt.title('Participaciones femeninas')\n",
    "sns.countplot(data=f_olimp, x='Year')\n",
    "plt.show()"
   ]
  },
  {
   "cell_type": "markdown",
   "id": "73e7b0de",
   "metadata": {
    "papermill": {
     "duration": 0.024452,
     "end_time": "2023-03-28T04:23:54.474213",
     "exception": false,
     "start_time": "2023-03-28T04:23:54.449761",
     "status": "completed"
    },
    "tags": []
   },
   "source": [
    "## Atletas con medallas de oro"
   ]
  },
  {
   "cell_type": "code",
   "execution_count": 38,
   "id": "7a5aa737",
   "metadata": {
    "execution": {
     "iopub.execute_input": "2023-03-28T04:23:54.525854Z",
     "iopub.status.busy": "2023-03-28T04:23:54.525417Z",
     "iopub.status.idle": "2023-03-28T04:23:54.597527Z",
     "shell.execute_reply": "2023-03-28T04:23:54.596515Z"
    },
    "papermill": {
     "duration": 0.102975,
     "end_time": "2023-03-28T04:23:54.600644",
     "exception": false,
     "start_time": "2023-03-28T04:23:54.497669",
     "status": "completed"
    },
    "tags": []
   },
   "outputs": [
    {
     "data": {
      "text/html": [
       "<div>\n",
       "<style scoped>\n",
       "    .dataframe tbody tr th:only-of-type {\n",
       "        vertical-align: middle;\n",
       "    }\n",
       "\n",
       "    .dataframe tbody tr th {\n",
       "        vertical-align: top;\n",
       "    }\n",
       "\n",
       "    .dataframe thead th {\n",
       "        text-align: right;\n",
       "    }\n",
       "</style>\n",
       "<table border=\"1\" class=\"dataframe\">\n",
       "  <thead>\n",
       "    <tr style=\"text-align: right;\">\n",
       "      <th></th>\n",
       "      <th>ID</th>\n",
       "      <th>Name</th>\n",
       "      <th>Sex</th>\n",
       "      <th>Age</th>\n",
       "      <th>Height</th>\n",
       "      <th>Weight</th>\n",
       "      <th>Team</th>\n",
       "      <th>NOC</th>\n",
       "      <th>Games</th>\n",
       "      <th>Year</th>\n",
       "      <th>Season</th>\n",
       "      <th>City</th>\n",
       "      <th>Sport</th>\n",
       "      <th>Event</th>\n",
       "      <th>Medal</th>\n",
       "      <th>Region</th>\n",
       "      <th>Notes</th>\n",
       "    </tr>\n",
       "  </thead>\n",
       "  <tbody>\n",
       "    <tr>\n",
       "      <th>3</th>\n",
       "      <td>4</td>\n",
       "      <td>Edgar Lindenau Aabye</td>\n",
       "      <td>M</td>\n",
       "      <td>34.0</td>\n",
       "      <td>NaN</td>\n",
       "      <td>NaN</td>\n",
       "      <td>Denmark/Sweden</td>\n",
       "      <td>DEN</td>\n",
       "      <td>1900 Summer</td>\n",
       "      <td>1900</td>\n",
       "      <td>Summer</td>\n",
       "      <td>Paris</td>\n",
       "      <td>Tug-Of-War</td>\n",
       "      <td>Tug-Of-War Men's Tug-Of-War</td>\n",
       "      <td>Gold</td>\n",
       "      <td>Denmark</td>\n",
       "      <td>NaN</td>\n",
       "    </tr>\n",
       "    <tr>\n",
       "      <th>42</th>\n",
       "      <td>17</td>\n",
       "      <td>Paavo Johannes Aaltonen</td>\n",
       "      <td>M</td>\n",
       "      <td>28.0</td>\n",
       "      <td>175.0</td>\n",
       "      <td>64.0</td>\n",
       "      <td>Finland</td>\n",
       "      <td>FIN</td>\n",
       "      <td>1948 Summer</td>\n",
       "      <td>1948</td>\n",
       "      <td>Summer</td>\n",
       "      <td>London</td>\n",
       "      <td>Gymnastics</td>\n",
       "      <td>Gymnastics Men's Team All-Around</td>\n",
       "      <td>Gold</td>\n",
       "      <td>Finland</td>\n",
       "      <td>NaN</td>\n",
       "    </tr>\n",
       "    <tr>\n",
       "      <th>44</th>\n",
       "      <td>17</td>\n",
       "      <td>Paavo Johannes Aaltonen</td>\n",
       "      <td>M</td>\n",
       "      <td>28.0</td>\n",
       "      <td>175.0</td>\n",
       "      <td>64.0</td>\n",
       "      <td>Finland</td>\n",
       "      <td>FIN</td>\n",
       "      <td>1948 Summer</td>\n",
       "      <td>1948</td>\n",
       "      <td>Summer</td>\n",
       "      <td>London</td>\n",
       "      <td>Gymnastics</td>\n",
       "      <td>Gymnastics Men's Horse Vault</td>\n",
       "      <td>Gold</td>\n",
       "      <td>Finland</td>\n",
       "      <td>NaN</td>\n",
       "    </tr>\n",
       "    <tr>\n",
       "      <th>48</th>\n",
       "      <td>17</td>\n",
       "      <td>Paavo Johannes Aaltonen</td>\n",
       "      <td>M</td>\n",
       "      <td>28.0</td>\n",
       "      <td>175.0</td>\n",
       "      <td>64.0</td>\n",
       "      <td>Finland</td>\n",
       "      <td>FIN</td>\n",
       "      <td>1948 Summer</td>\n",
       "      <td>1948</td>\n",
       "      <td>Summer</td>\n",
       "      <td>London</td>\n",
       "      <td>Gymnastics</td>\n",
       "      <td>Gymnastics Men's Pommelled Horse</td>\n",
       "      <td>Gold</td>\n",
       "      <td>Finland</td>\n",
       "      <td>NaN</td>\n",
       "    </tr>\n",
       "    <tr>\n",
       "      <th>60</th>\n",
       "      <td>20</td>\n",
       "      <td>Kjetil Andr Aamodt</td>\n",
       "      <td>M</td>\n",
       "      <td>20.0</td>\n",
       "      <td>176.0</td>\n",
       "      <td>85.0</td>\n",
       "      <td>Norway</td>\n",
       "      <td>NOR</td>\n",
       "      <td>1992 Winter</td>\n",
       "      <td>1992</td>\n",
       "      <td>Winter</td>\n",
       "      <td>Albertville</td>\n",
       "      <td>Alpine Skiing</td>\n",
       "      <td>Alpine Skiing Men's Super G</td>\n",
       "      <td>Gold</td>\n",
       "      <td>Norway</td>\n",
       "      <td>NaN</td>\n",
       "    </tr>\n",
       "    <tr>\n",
       "      <th>...</th>\n",
       "      <td>...</td>\n",
       "      <td>...</td>\n",
       "      <td>...</td>\n",
       "      <td>...</td>\n",
       "      <td>...</td>\n",
       "      <td>...</td>\n",
       "      <td>...</td>\n",
       "      <td>...</td>\n",
       "      <td>...</td>\n",
       "      <td>...</td>\n",
       "      <td>...</td>\n",
       "      <td>...</td>\n",
       "      <td>...</td>\n",
       "      <td>...</td>\n",
       "      <td>...</td>\n",
       "      <td>...</td>\n",
       "      <td>...</td>\n",
       "    </tr>\n",
       "    <tr>\n",
       "      <th>270981</th>\n",
       "      <td>135503</td>\n",
       "      <td>Zurab Zviadauri</td>\n",
       "      <td>M</td>\n",
       "      <td>23.0</td>\n",
       "      <td>182.0</td>\n",
       "      <td>90.0</td>\n",
       "      <td>Georgia</td>\n",
       "      <td>GEO</td>\n",
       "      <td>2004 Summer</td>\n",
       "      <td>2004</td>\n",
       "      <td>Summer</td>\n",
       "      <td>Athina</td>\n",
       "      <td>Judo</td>\n",
       "      <td>Judo Men's Middleweight</td>\n",
       "      <td>Gold</td>\n",
       "      <td>Georgia</td>\n",
       "      <td>NaN</td>\n",
       "    </tr>\n",
       "    <tr>\n",
       "      <th>271009</th>\n",
       "      <td>135520</td>\n",
       "      <td>Julia Zwehl</td>\n",
       "      <td>F</td>\n",
       "      <td>28.0</td>\n",
       "      <td>167.0</td>\n",
       "      <td>60.0</td>\n",
       "      <td>Germany</td>\n",
       "      <td>GER</td>\n",
       "      <td>2004 Summer</td>\n",
       "      <td>2004</td>\n",
       "      <td>Summer</td>\n",
       "      <td>Athina</td>\n",
       "      <td>Hockey</td>\n",
       "      <td>Hockey Women's Hockey</td>\n",
       "      <td>Gold</td>\n",
       "      <td>Germany</td>\n",
       "      <td>NaN</td>\n",
       "    </tr>\n",
       "    <tr>\n",
       "      <th>271016</th>\n",
       "      <td>135523</td>\n",
       "      <td>Ronald Ferdinand \"Ron\" Zwerver</td>\n",
       "      <td>M</td>\n",
       "      <td>29.0</td>\n",
       "      <td>200.0</td>\n",
       "      <td>93.0</td>\n",
       "      <td>Netherlands</td>\n",
       "      <td>NED</td>\n",
       "      <td>1996 Summer</td>\n",
       "      <td>1996</td>\n",
       "      <td>Summer</td>\n",
       "      <td>Atlanta</td>\n",
       "      <td>Volleyball</td>\n",
       "      <td>Volleyball Men's Volleyball</td>\n",
       "      <td>Gold</td>\n",
       "      <td>Netherlands</td>\n",
       "      <td>NaN</td>\n",
       "    </tr>\n",
       "    <tr>\n",
       "      <th>271049</th>\n",
       "      <td>135545</td>\n",
       "      <td>Henk Jan Zwolle</td>\n",
       "      <td>M</td>\n",
       "      <td>31.0</td>\n",
       "      <td>197.0</td>\n",
       "      <td>93.0</td>\n",
       "      <td>Netherlands</td>\n",
       "      <td>NED</td>\n",
       "      <td>1996 Summer</td>\n",
       "      <td>1996</td>\n",
       "      <td>Summer</td>\n",
       "      <td>Atlanta</td>\n",
       "      <td>Rowing</td>\n",
       "      <td>Rowing Men's Coxed Eights</td>\n",
       "      <td>Gold</td>\n",
       "      <td>Netherlands</td>\n",
       "      <td>NaN</td>\n",
       "    </tr>\n",
       "    <tr>\n",
       "      <th>271076</th>\n",
       "      <td>135553</td>\n",
       "      <td>Galina Ivanovna Zybina (-Fyodorova)</td>\n",
       "      <td>F</td>\n",
       "      <td>21.0</td>\n",
       "      <td>168.0</td>\n",
       "      <td>80.0</td>\n",
       "      <td>Soviet Union</td>\n",
       "      <td>URS</td>\n",
       "      <td>1952 Summer</td>\n",
       "      <td>1952</td>\n",
       "      <td>Summer</td>\n",
       "      <td>Helsinki</td>\n",
       "      <td>Athletics</td>\n",
       "      <td>Athletics Women's Shot Put</td>\n",
       "      <td>Gold</td>\n",
       "      <td>Russia</td>\n",
       "      <td>NaN</td>\n",
       "    </tr>\n",
       "  </tbody>\n",
       "</table>\n",
       "<p>13372 rows × 17 columns</p>\n",
       "</div>"
      ],
      "text/plain": [
       "            ID                                 Name Sex   Age  Height  Weight  \\\n",
       "3            4                 Edgar Lindenau Aabye   M  34.0     NaN     NaN   \n",
       "42          17              Paavo Johannes Aaltonen   M  28.0   175.0    64.0   \n",
       "44          17              Paavo Johannes Aaltonen   M  28.0   175.0    64.0   \n",
       "48          17              Paavo Johannes Aaltonen   M  28.0   175.0    64.0   \n",
       "60          20                   Kjetil Andr Aamodt   M  20.0   176.0    85.0   \n",
       "...        ...                                  ...  ..   ...     ...     ...   \n",
       "270981  135503                      Zurab Zviadauri   M  23.0   182.0    90.0   \n",
       "271009  135520                          Julia Zwehl   F  28.0   167.0    60.0   \n",
       "271016  135523       Ronald Ferdinand \"Ron\" Zwerver   M  29.0   200.0    93.0   \n",
       "271049  135545                      Henk Jan Zwolle   M  31.0   197.0    93.0   \n",
       "271076  135553  Galina Ivanovna Zybina (-Fyodorova)   F  21.0   168.0    80.0   \n",
       "\n",
       "                  Team  NOC        Games  Year  Season         City  \\\n",
       "3       Denmark/Sweden  DEN  1900 Summer  1900  Summer        Paris   \n",
       "42             Finland  FIN  1948 Summer  1948  Summer       London   \n",
       "44             Finland  FIN  1948 Summer  1948  Summer       London   \n",
       "48             Finland  FIN  1948 Summer  1948  Summer       London   \n",
       "60              Norway  NOR  1992 Winter  1992  Winter  Albertville   \n",
       "...                ...  ...          ...   ...     ...          ...   \n",
       "270981         Georgia  GEO  2004 Summer  2004  Summer       Athina   \n",
       "271009         Germany  GER  2004 Summer  2004  Summer       Athina   \n",
       "271016     Netherlands  NED  1996 Summer  1996  Summer      Atlanta   \n",
       "271049     Netherlands  NED  1996 Summer  1996  Summer      Atlanta   \n",
       "271076    Soviet Union  URS  1952 Summer  1952  Summer     Helsinki   \n",
       "\n",
       "                Sport                             Event Medal       Region  \\\n",
       "3          Tug-Of-War       Tug-Of-War Men's Tug-Of-War  Gold      Denmark   \n",
       "42         Gymnastics  Gymnastics Men's Team All-Around  Gold      Finland   \n",
       "44         Gymnastics      Gymnastics Men's Horse Vault  Gold      Finland   \n",
       "48         Gymnastics  Gymnastics Men's Pommelled Horse  Gold      Finland   \n",
       "60      Alpine Skiing       Alpine Skiing Men's Super G  Gold       Norway   \n",
       "...               ...                               ...   ...          ...   \n",
       "270981           Judo           Judo Men's Middleweight  Gold      Georgia   \n",
       "271009         Hockey             Hockey Women's Hockey  Gold      Germany   \n",
       "271016     Volleyball       Volleyball Men's Volleyball  Gold  Netherlands   \n",
       "271049         Rowing         Rowing Men's Coxed Eights  Gold  Netherlands   \n",
       "271076      Athletics        Athletics Women's Shot Put  Gold       Russia   \n",
       "\n",
       "       Notes  \n",
       "3        NaN  \n",
       "42       NaN  \n",
       "44       NaN  \n",
       "48       NaN  \n",
       "60       NaN  \n",
       "...      ...  \n",
       "270981   NaN  \n",
       "271009   NaN  \n",
       "271016   NaN  \n",
       "271049   NaN  \n",
       "271076   NaN  \n",
       "\n",
       "[13372 rows x 17 columns]"
      ]
     },
     "execution_count": 38,
     "metadata": {},
     "output_type": "execute_result"
    }
   ],
   "source": [
    "medallas_oro = atletas_df.query('Medal == \"Gold\"')\n",
    "medallas_oro"
   ]
  },
  {
   "cell_type": "markdown",
   "id": "7309948a",
   "metadata": {
    "papermill": {
     "duration": 0.023505,
     "end_time": "2023-03-28T04:23:54.654249",
     "exception": false,
     "start_time": "2023-03-28T04:23:54.630744",
     "status": "completed"
    },
    "tags": []
   },
   "source": [
    "### Solo filas sin edad NaN"
   ]
  },
  {
   "cell_type": "code",
   "execution_count": 39,
   "id": "3c213f32",
   "metadata": {
    "execution": {
     "iopub.execute_input": "2023-03-28T04:23:54.705171Z",
     "iopub.status.busy": "2023-03-28T04:23:54.704313Z",
     "iopub.status.idle": "2023-03-28T04:23:54.712837Z",
     "shell.execute_reply": "2023-03-28T04:23:54.711660Z"
    },
    "papermill": {
     "duration": 0.037432,
     "end_time": "2023-03-28T04:23:54.715705",
     "exception": false,
     "start_time": "2023-03-28T04:23:54.678273",
     "status": "completed"
    },
    "tags": []
   },
   "outputs": [],
   "source": [
    "medallas_oro = medallas_oro[medallas_oro['Age'].notna()]"
   ]
  },
  {
   "cell_type": "code",
   "execution_count": 40,
   "id": "d3b9b441",
   "metadata": {
    "execution": {
     "iopub.execute_input": "2023-03-28T04:23:54.765951Z",
     "iopub.status.busy": "2023-03-28T04:23:54.765551Z",
     "iopub.status.idle": "2023-03-28T04:23:54.769707Z",
     "shell.execute_reply": "2023-03-28T04:23:54.768559Z"
    },
    "papermill": {
     "duration": 0.032187,
     "end_time": "2023-03-28T04:23:54.772340",
     "exception": false,
     "start_time": "2023-03-28T04:23:54.740153",
     "status": "completed"
    },
    "tags": []
   },
   "outputs": [],
   "source": [
    "# #Alternativa\n",
    "# medallas_oro[np.isfinite(medallas_oro['Age'])]"
   ]
  },
  {
   "cell_type": "markdown",
   "id": "0347e2d3",
   "metadata": {
    "papermill": {
     "duration": 0.023521,
     "end_time": "2023-03-28T04:23:54.819726",
     "exception": false,
     "start_time": "2023-03-28T04:23:54.796205",
     "status": "completed"
    },
    "tags": []
   },
   "source": [
    "### Ganadores de medallas de oro mayores a 55 años"
   ]
  },
  {
   "cell_type": "code",
   "execution_count": 41,
   "id": "bade28dd",
   "metadata": {
    "execution": {
     "iopub.execute_input": "2023-03-28T04:23:54.869390Z",
     "iopub.status.busy": "2023-03-28T04:23:54.868565Z",
     "iopub.status.idle": "2023-03-28T04:23:54.887348Z",
     "shell.execute_reply": "2023-03-28T04:23:54.886228Z"
    },
    "papermill": {
     "duration": 0.046371,
     "end_time": "2023-03-28T04:23:54.889711",
     "exception": false,
     "start_time": "2023-03-28T04:23:54.843340",
     "status": "completed"
    },
    "tags": []
   },
   "outputs": [
    {
     "data": {
      "text/html": [
       "<div>\n",
       "<style scoped>\n",
       "    .dataframe tbody tr th:only-of-type {\n",
       "        vertical-align: middle;\n",
       "    }\n",
       "\n",
       "    .dataframe tbody tr th {\n",
       "        vertical-align: top;\n",
       "    }\n",
       "\n",
       "    .dataframe thead th {\n",
       "        text-align: right;\n",
       "    }\n",
       "</style>\n",
       "<table border=\"1\" class=\"dataframe\">\n",
       "  <thead>\n",
       "    <tr style=\"text-align: right;\">\n",
       "      <th></th>\n",
       "      <th>Name</th>\n",
       "      <th>n_golds</th>\n",
       "    </tr>\n",
       "  </thead>\n",
       "  <tbody>\n",
       "    <tr>\n",
       "      <th>0</th>\n",
       "      <td>Oscar Gomer Swahn</td>\n",
       "      <td>3</td>\n",
       "    </tr>\n",
       "    <tr>\n",
       "      <th>1</th>\n",
       "      <td>Walter Winans</td>\n",
       "      <td>2</td>\n",
       "    </tr>\n",
       "    <tr>\n",
       "      <th>2</th>\n",
       "      <td>Johan August Anker</td>\n",
       "      <td>1</td>\n",
       "    </tr>\n",
       "    <tr>\n",
       "      <th>3</th>\n",
       "      <td>Nikolaus \"Klaus\" Balkenhol</td>\n",
       "      <td>1</td>\n",
       "    </tr>\n",
       "    <tr>\n",
       "      <th>4</th>\n",
       "      <td>Robert W. Williams, Jr.</td>\n",
       "      <td>1</td>\n",
       "    </tr>\n",
       "    <tr>\n",
       "      <th>5</th>\n",
       "      <td>Allen Whitty</td>\n",
       "      <td>1</td>\n",
       "    </tr>\n",
       "    <tr>\n",
       "      <th>6</th>\n",
       "      <td>Chrtien Andr Waydelich</td>\n",
       "      <td>1</td>\n",
       "    </tr>\n",
       "    <tr>\n",
       "      <th>7</th>\n",
       "      <td>David August Wallin</td>\n",
       "      <td>1</td>\n",
       "    </tr>\n",
       "    <tr>\n",
       "      <th>8</th>\n",
       "      <td>William Henry \"Will\" Thompson</td>\n",
       "      <td>1</td>\n",
       "    </tr>\n",
       "    <tr>\n",
       "      <th>9</th>\n",
       "      <td>Giani Stparich</td>\n",
       "      <td>1</td>\n",
       "    </tr>\n",
       "    <tr>\n",
       "      <th>10</th>\n",
       "      <td>Galen Carter \"G. C.\" Spencer</td>\n",
       "      <td>1</td>\n",
       "    </tr>\n",
       "    <tr>\n",
       "      <th>11</th>\n",
       "      <td>Paul Hurlburt Smart</td>\n",
       "      <td>1</td>\n",
       "    </tr>\n",
       "    <tr>\n",
       "      <th>12</th>\n",
       "      <td>Nicholas David \"Nick\" Skelton</td>\n",
       "      <td>1</td>\n",
       "    </tr>\n",
       "    <tr>\n",
       "      <th>13</th>\n",
       "      <td>Lida Peyton \"Eliza\" Pollock (McMillen-)</td>\n",
       "      <td>1</td>\n",
       "    </tr>\n",
       "    <tr>\n",
       "      <th>14</th>\n",
       "      <td>William Herbert \"Bill\" Northam</td>\n",
       "      <td>1</td>\n",
       "    </tr>\n",
       "    <tr>\n",
       "      <th>15</th>\n",
       "      <td>William Newzam Prior Nicholson</td>\n",
       "      <td>1</td>\n",
       "    </tr>\n",
       "    <tr>\n",
       "      <th>16</th>\n",
       "      <td>Josef Carl Peter Neckermann</td>\n",
       "      <td>1</td>\n",
       "    </tr>\n",
       "    <tr>\n",
       "      <th>17</th>\n",
       "      <td>Joshua Kearney Millner</td>\n",
       "      <td>1</td>\n",
       "    </tr>\n",
       "    <tr>\n",
       "      <th>18</th>\n",
       "      <td>Ernst Linder</td>\n",
       "      <td>1</td>\n",
       "    </tr>\n",
       "    <tr>\n",
       "      <th>19</th>\n",
       "      <td>Charles Jacobus</td>\n",
       "      <td>1</td>\n",
       "    </tr>\n",
       "    <tr>\n",
       "      <th>20</th>\n",
       "      <td>Isaac Lazarus Israls</td>\n",
       "      <td>1</td>\n",
       "    </tr>\n",
       "    <tr>\n",
       "      <th>21</th>\n",
       "      <td>Everard Coenraad Endt</td>\n",
       "      <td>1</td>\n",
       "    </tr>\n",
       "    <tr>\n",
       "      <th>22</th>\n",
       "      <td>Charles Granville Bruce</td>\n",
       "      <td>1</td>\n",
       "    </tr>\n",
       "    <tr>\n",
       "      <th>23</th>\n",
       "      <td>Emily Woodruff (Smiley-)</td>\n",
       "      <td>1</td>\n",
       "    </tr>\n",
       "  </tbody>\n",
       "</table>\n",
       "</div>"
      ],
      "text/plain": [
       "                                       Name  n_golds\n",
       "0                         Oscar Gomer Swahn        3\n",
       "1                             Walter Winans        2\n",
       "2                        Johan August Anker        1\n",
       "3                Nikolaus \"Klaus\" Balkenhol        1\n",
       "4                   Robert W. Williams, Jr.        1\n",
       "5                              Allen Whitty        1\n",
       "6                    Chrtien Andr Waydelich        1\n",
       "7                       David August Wallin        1\n",
       "8             William Henry \"Will\" Thompson        1\n",
       "9                            Giani Stparich        1\n",
       "10             Galen Carter \"G. C.\" Spencer        1\n",
       "11                      Paul Hurlburt Smart        1\n",
       "12            Nicholas David \"Nick\" Skelton        1\n",
       "13  Lida Peyton \"Eliza\" Pollock (McMillen-)        1\n",
       "14           William Herbert \"Bill\" Northam        1\n",
       "15           William Newzam Prior Nicholson        1\n",
       "16              Josef Carl Peter Neckermann        1\n",
       "17                   Joshua Kearney Millner        1\n",
       "18                             Ernst Linder        1\n",
       "19                          Charles Jacobus        1\n",
       "20                     Isaac Lazarus Israls        1\n",
       "21                    Everard Coenraad Endt        1\n",
       "22                  Charles Granville Bruce        1\n",
       "23                 Emily Woodruff (Smiley-)        1"
      ]
     },
     "execution_count": 41,
     "metadata": {},
     "output_type": "execute_result"
    }
   ],
   "source": [
    "(\n",
    "    medallas_oro.query('Age > 55')['Name']\n",
    "    .value_counts().reset_index(name='n_golds')\n",
    "    .rename(columns={'index':'Name'})\n",
    ")"
   ]
  },
  {
   "cell_type": "markdown",
   "id": "f0c29024",
   "metadata": {
    "papermill": {
     "duration": 0.024064,
     "end_time": "2023-03-28T04:23:54.938226",
     "exception": false,
     "start_time": "2023-03-28T04:23:54.914162",
     "status": "completed"
    },
    "tags": []
   },
   "source": [
    "### ¿En qué deportes?"
   ]
  },
  {
   "cell_type": "code",
   "execution_count": 42,
   "id": "209a1d56",
   "metadata": {
    "execution": {
     "iopub.execute_input": "2023-03-28T04:23:54.989425Z",
     "iopub.status.busy": "2023-03-28T04:23:54.988337Z",
     "iopub.status.idle": "2023-03-28T04:23:54.997636Z",
     "shell.execute_reply": "2023-03-28T04:23:54.996567Z"
    },
    "papermill": {
     "duration": 0.037637,
     "end_time": "2023-03-28T04:23:55.000157",
     "exception": false,
     "start_time": "2023-03-28T04:23:54.962520",
     "status": "completed"
    },
    "tags": []
   },
   "outputs": [],
   "source": [
    "sport_gold_mas_55 = medallas_oro.query('Age > 55')[['Sport']]"
   ]
  },
  {
   "cell_type": "code",
   "execution_count": 43,
   "id": "bf68db75",
   "metadata": {
    "execution": {
     "iopub.execute_input": "2023-03-28T04:23:55.051257Z",
     "iopub.status.busy": "2023-03-28T04:23:55.050154Z",
     "iopub.status.idle": "2023-03-28T04:23:55.308334Z",
     "shell.execute_reply": "2023-03-28T04:23:55.307023Z"
    },
    "papermill": {
     "duration": 0.286911,
     "end_time": "2023-03-28T04:23:55.311325",
     "exception": false,
     "start_time": "2023-03-28T04:23:55.024414",
     "status": "completed"
    },
    "tags": []
   },
   "outputs": [
    {
     "data": {
      "text/plain": [
       "<AxesSubplot:xlabel='Sport', ylabel='count'>"
      ]
     },
     "execution_count": 43,
     "metadata": {},
     "output_type": "execute_result"
    },
    {
     "data": {
      "image/png": "[encoded data removed]",
      "text/plain": [
       "<Figure size 1000x500 with 1 Axes>"
      ]
     },
     "metadata": {},
     "output_type": "display_data"
    }
   ],
   "source": [
    "plt.figure(figsize=(10,5))\n",
    "sns.countplot(sport_gold_mas_55, x = 'Sport')"
   ]
  },
  {
   "cell_type": "markdown",
   "id": "09f0e0bf",
   "metadata": {
    "papermill": {
     "duration": 0.025773,
     "end_time": "2023-03-28T04:23:55.362585",
     "exception": false,
     "start_time": "2023-03-28T04:23:55.336812",
     "status": "completed"
    },
    "tags": []
   },
   "source": [
    "## Medallas de oro por pais"
   ]
  },
  {
   "cell_type": "code",
   "execution_count": 44,
   "id": "b54f0a09",
   "metadata": {
    "execution": {
     "iopub.execute_input": "2023-03-28T04:23:55.415088Z",
     "iopub.status.busy": "2023-03-28T04:23:55.413832Z",
     "iopub.status.idle": "2023-03-28T04:23:55.455070Z",
     "shell.execute_reply": "2023-03-28T04:23:55.453621Z"
    },
    "papermill": {
     "duration": 0.070489,
     "end_time": "2023-03-28T04:23:55.458009",
     "exception": false,
     "start_time": "2023-03-28T04:23:55.387520",
     "status": "completed"
    },
    "tags": []
   },
   "outputs": [
    {
     "data": {
      "text/html": [
       "<div>\n",
       "<style scoped>\n",
       "    .dataframe tbody tr th:only-of-type {\n",
       "        vertical-align: middle;\n",
       "    }\n",
       "\n",
       "    .dataframe tbody tr th {\n",
       "        vertical-align: top;\n",
       "    }\n",
       "\n",
       "    .dataframe thead th {\n",
       "        text-align: right;\n",
       "    }\n",
       "</style>\n",
       "<table border=\"1\" class=\"dataframe\">\n",
       "  <thead>\n",
       "    <tr style=\"text-align: right;\">\n",
       "      <th></th>\n",
       "      <th>Region</th>\n",
       "      <th>n_oros</th>\n",
       "    </tr>\n",
       "  </thead>\n",
       "  <tbody>\n",
       "    <tr>\n",
       "      <th>90</th>\n",
       "      <td>USA</td>\n",
       "      <td>2638</td>\n",
       "    </tr>\n",
       "    <tr>\n",
       "      <th>72</th>\n",
       "      <td>Russia</td>\n",
       "      <td>1599</td>\n",
       "    </tr>\n",
       "    <tr>\n",
       "      <th>32</th>\n",
       "      <td>Germany</td>\n",
       "      <td>1301</td>\n",
       "    </tr>\n",
       "    <tr>\n",
       "      <th>89</th>\n",
       "      <td>UK</td>\n",
       "      <td>678</td>\n",
       "    </tr>\n",
       "    <tr>\n",
       "      <th>43</th>\n",
       "      <td>Italy</td>\n",
       "      <td>575</td>\n",
       "    </tr>\n",
       "    <tr>\n",
       "      <th>30</th>\n",
       "      <td>France</td>\n",
       "      <td>501</td>\n",
       "    </tr>\n",
       "    <tr>\n",
       "      <th>80</th>\n",
       "      <td>Sweden</td>\n",
       "      <td>479</td>\n",
       "    </tr>\n",
       "    <tr>\n",
       "      <th>14</th>\n",
       "      <td>Canada</td>\n",
       "      <td>463</td>\n",
       "    </tr>\n",
       "    <tr>\n",
       "      <th>36</th>\n",
       "      <td>Hungary</td>\n",
       "      <td>432</td>\n",
       "    </tr>\n",
       "    <tr>\n",
       "      <th>64</th>\n",
       "      <td>Norway</td>\n",
       "      <td>378</td>\n",
       "    </tr>\n",
       "  </tbody>\n",
       "</table>\n",
       "</div>"
      ],
      "text/plain": [
       "     Region  n_oros\n",
       "90      USA    2638\n",
       "72   Russia    1599\n",
       "32  Germany    1301\n",
       "89       UK     678\n",
       "43    Italy     575\n",
       "30   France     501\n",
       "80   Sweden     479\n",
       "14   Canada     463\n",
       "36  Hungary     432\n",
       "64   Norway     378"
      ]
     },
     "execution_count": 44,
     "metadata": {},
     "output_type": "execute_result"
    }
   ],
   "source": [
    "(\n",
    "    atletas_df.query('Medal == \"Gold\"').groupby('Region')['Medal']\n",
    "    .count().reset_index(name='n_oros')\n",
    "    .sort_values('n_oros', ascending=False)\n",
    "    .head(10)\n",
    ")"
   ]
  },
  {
   "cell_type": "markdown",
   "id": "94425bd2",
   "metadata": {
    "papermill": {
     "duration": 0.02513,
     "end_time": "2023-03-28T04:23:55.508806",
     "exception": false,
     "start_time": "2023-03-28T04:23:55.483676",
     "status": "completed"
    },
    "tags": []
   },
   "source": [
    "## Medallas de oro por pais en las olimpiadas más recientes"
   ]
  },
  {
   "cell_type": "code",
   "execution_count": 45,
   "id": "728f2f4a",
   "metadata": {
    "execution": {
     "iopub.execute_input": "2023-03-28T04:23:55.561381Z",
     "iopub.status.busy": "2023-03-28T04:23:55.560916Z",
     "iopub.status.idle": "2023-03-28T04:23:55.566676Z",
     "shell.execute_reply": "2023-03-28T04:23:55.565239Z"
    },
    "papermill": {
     "duration": 0.035372,
     "end_time": "2023-03-28T04:23:55.569182",
     "exception": false,
     "start_time": "2023-03-28T04:23:55.533810",
     "status": "completed"
    },
    "tags": []
   },
   "outputs": [],
   "source": [
    "ultimo_año = atletas_df.Year.max()"
   ]
  },
  {
   "cell_type": "code",
   "execution_count": 46,
   "id": "2d4ea9cf",
   "metadata": {
    "execution": {
     "iopub.execute_input": "2023-03-28T04:23:55.621395Z",
     "iopub.status.busy": "2023-03-28T04:23:55.620674Z",
     "iopub.status.idle": "2023-03-28T04:23:55.647893Z",
     "shell.execute_reply": "2023-03-28T04:23:55.646688Z"
    },
    "papermill": {
     "duration": 0.056446,
     "end_time": "2023-03-28T04:23:55.650526",
     "exception": false,
     "start_time": "2023-03-28T04:23:55.594080",
     "status": "completed"
    },
    "tags": []
   },
   "outputs": [
    {
     "data": {
      "text/plain": [
       "United States    137\n",
       "Great Britain     64\n",
       "Russia            50\n",
       "Germany           47\n",
       "China             44\n",
       "Brazil            34\n",
       "Australia         23\n",
       "Argentina         21\n",
       "France            20\n",
       "Japan             17\n",
       "Denmark           15\n",
       "Serbia            14\n",
       "Fiji              13\n",
       "South Korea       13\n",
       "Hungary           12\n",
       "Jamaica           11\n",
       "Netherlands        9\n",
       "Italy              8\n",
       "Croatia            7\n",
       "Spain              7\n",
       "Name: Team, dtype: int64"
      ]
     },
     "execution_count": 46,
     "metadata": {},
     "output_type": "execute_result"
    }
   ],
   "source": [
    "oros_ultimo_año = (\n",
    "    atletas_df.query(f'Year == {ultimo_año} & Medal == \"Gold\"')\n",
    "    .Team\n",
    "    .value_counts()\n",
    "    .head(20)\n",
    ")\n",
    "oros_ultimo_año"
   ]
  },
  {
   "cell_type": "code",
   "execution_count": 47,
   "id": "16fb25dc",
   "metadata": {
    "execution": {
     "iopub.execute_input": "2023-03-28T04:23:55.703126Z",
     "iopub.status.busy": "2023-03-28T04:23:55.702704Z",
     "iopub.status.idle": "2023-03-28T04:23:56.076581Z",
     "shell.execute_reply": "2023-03-28T04:23:56.075338Z"
    },
    "papermill": {
     "duration": 0.403499,
     "end_time": "2023-03-28T04:23:56.079371",
     "exception": false,
     "start_time": "2023-03-28T04:23:55.675872",
     "status": "completed"
    },
    "tags": []
   },
   "outputs": [
    {
     "data": {
      "text/plain": [
       "<AxesSubplot:xlabel='Team'>"
      ]
     },
     "execution_count": 47,
     "metadata": {},
     "output_type": "execute_result"
    },
    {
     "data": {
      "image/png": "[encoded data removed]",
      "text/plain": [
       "<Figure size 640x480 with 1 Axes>"
      ]
     },
     "metadata": {},
     "output_type": "display_data"
    }
   ],
   "source": [
    "sns.barplot(x= oros_ultimo_año, y=oros_ultimo_año.index)"
   ]
  },
  {
   "cell_type": "markdown",
   "id": "c5687335",
   "metadata": {
    "papermill": {
     "duration": 0.025338,
     "end_time": "2023-03-28T04:23:56.130382",
     "exception": false,
     "start_time": "2023-03-28T04:23:56.105044",
     "status": "completed"
    },
    "tags": []
   },
   "source": [
    "## Estatura vs peso"
   ]
  },
  {
   "cell_type": "code",
   "execution_count": 48,
   "id": "92c7bd76",
   "metadata": {
    "execution": {
     "iopub.execute_input": "2023-03-28T04:23:56.183382Z",
     "iopub.status.busy": "2023-03-28T04:23:56.182938Z",
     "iopub.status.idle": "2023-03-28T04:23:56.220330Z",
     "shell.execute_reply": "2023-03-28T04:23:56.219203Z"
    },
    "papermill": {
     "duration": 0.06828,
     "end_time": "2023-03-28T04:23:56.224263",
     "exception": false,
     "start_time": "2023-03-28T04:23:56.155983",
     "status": "completed"
    },
    "tags": []
   },
   "outputs": [],
   "source": [
    "medallas_notna = (\n",
    "    atletas_df[atletas_df['Height'].notna() & atletas_df['Weight'].notna()]\n",
    ")\n"
   ]
  },
  {
   "cell_type": "code",
   "execution_count": 49,
   "id": "6dc29444",
   "metadata": {
    "execution": {
     "iopub.execute_input": "2023-03-28T04:23:56.286202Z",
     "iopub.status.busy": "2023-03-28T04:23:56.285403Z",
     "iopub.status.idle": "2023-03-28T04:24:02.285427Z",
     "shell.execute_reply": "2023-03-28T04:24:02.284208Z"
    },
    "papermill": {
     "duration": 6.030857,
     "end_time": "2023-03-28T04:24:02.288982",
     "exception": false,
     "start_time": "2023-03-28T04:23:56.258125",
     "status": "completed"
    },
    "tags": []
   },
   "outputs": [
    {
     "data": {
      "image/png": "[encoded data removed]",
      "text/plain": [
       "<Figure size 1000x1000 with 1 Axes>"
      ]
     },
     "metadata": {},
     "output_type": "display_data"
    }
   ],
   "source": [
    "plt.figure(figsize=(10, 10))\n",
    "sns.scatterplot(data=medallas_notna, x='Height', y='Weight', hue='Sex')\n",
    "plt.title('Estatura vs Peso')\n",
    "plt.show()"
   ]
  },
  {
   "cell_type": "code",
   "execution_count": null,
   "id": "d513f12c",
   "metadata": {
    "papermill": {
     "duration": 0.031364,
     "end_time": "2023-03-28T04:24:02.352406",
     "exception": false,
     "start_time": "2023-03-28T04:24:02.321042",
     "status": "completed"
    },
    "tags": []
   },
   "outputs": [],
   "source": []
  }
 ],
 "metadata": {
  "kernelspec": {
   "display_name": "Python 3",
   "language": "python",
   "name": "python3"
  },
  "language_info": {
   "codemirror_mode": {
    "name": "ipython",
    "version": 3
   },
   "file_extension": ".py",
   "mimetype": "text/x-python",
   "name": "python",
   "nbconvert_exporter": "python",
   "pygments_lexer": "ipython3",
   "version": "3.7.12"
  },
  "papermill": {
   "default_parameters": {},
   "duration": 29.504512,
   "end_time": "2023-03-28T04:24:03.207166",
   "environment_variables": {},
   "exception": null,
   "input_path": "__notebook__.ipynb",
   "output_path": "__notebook__.ipynb",
   "parameters": {},
   "start_time": "2023-03-28T04:23:33.702654",
   "version": "2.4.0"
  }
 },
 "nbformat": 4,
 "nbformat_minor": 5
}
